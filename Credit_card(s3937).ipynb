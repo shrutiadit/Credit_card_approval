{
 "cells": [
  {
   "cell_type": "markdown",
   "id": "86eeb996",
   "metadata": {},
   "source": [
    "# Introduction\n",
    "\n",
    "There has been a surge in e-commerce and digital transactions all around the world.\n",
    "Authorising a credit card to any bank customer is quite risky.\n",
    "Financial institutions are increasingly turning to machine learning to identify the creditcard applicant's credit worthiness.\n",
    "We will be analysing the credit_card csv dataset to predict if an applicant will be approved/rejected for credit-card based on the applicant's details.\n",
    "\n"
   ]
  },
  {
   "cell_type": "markdown",
   "id": "35ab5824",
   "metadata": {},
   "source": [
    "We shall begin by importing the required libraries"
   ]
  },
  {
   "cell_type": "code",
   "execution_count": 574,
   "id": "63543691",
   "metadata": {},
   "outputs": [],
   "source": [
    "from sklearn.experimental import enable_iterative_imputer\n",
    "from sklearn.impute import IterativeImputer\n",
    "import pandas as pd\n",
    "import numpy as np\n",
    "import matplotlib.pyplot as plt\n",
    "import seaborn as sns\n",
    "from ydata_profiling import ProfileReport\n",
    "%matplotlib inline"
   ]
  },
  {
   "cell_type": "markdown",
   "id": "1831cb2b",
   "metadata": {},
   "source": [
    "Loading the datasets into a dataframe using pandas."
   ]
  },
  {
   "cell_type": "code",
   "execution_count": 575,
   "id": "0f802dec",
   "metadata": {},
   "outputs": [],
   "source": [
    "#loading the csv which has the information about the applicants in the dataframe \n",
    "df=pd.read_csv('Credit_card.csv')"
   ]
  },
  {
   "cell_type": "code",
   "execution_count": 576,
   "id": "869d13a6",
   "metadata": {},
   "outputs": [],
   "source": [
    "#Loading the csvv which has the information about the applicants who are approved or rejected in the dataframe.\n",
    "df_label=pd.read_csv('Credit_card_label.csv')"
   ]
  },
  {
   "cell_type": "markdown",
   "id": "49a44b43",
   "metadata": {},
   "source": [
    "Check the number of columns and rows in our dataframe."
   ]
  },
  {
   "cell_type": "code",
   "execution_count": 577,
   "id": "30b431c4",
   "metadata": {},
   "outputs": [
    {
     "data": {
      "text/plain": [
       "(1548, 18)"
      ]
     },
     "execution_count": 577,
     "metadata": {},
     "output_type": "execute_result"
    }
   ],
   "source": [
    "#Checking the number of rows and the columns in the dataframe.\n",
    "df.shape"
   ]
  },
  {
   "cell_type": "markdown",
   "id": "e6af247c",
   "metadata": {},
   "source": [
    "The Ind_ID column is common in both the dataframes.We will merge both the dataframes.\n",
    "Merge will automatically drop one  of the Ind_ID column."
   ]
  },
  {
   "cell_type": "code",
   "execution_count": 578,
   "id": "b2f59a9c",
   "metadata": {},
   "outputs": [],
   "source": [
    "# Merging both the dataframe.Ind_Id is the column which links both the dataframes\n",
    "df_fin=pd.merge(df,df_label)\n"
   ]
  },
  {
   "cell_type": "markdown",
   "id": "7f144391",
   "metadata": {},
   "source": [
    "Check if the data is correctly loaded and merged."
   ]
  },
  {
   "cell_type": "code",
   "execution_count": 579,
   "id": "29d7638a",
   "metadata": {},
   "outputs": [
    {
     "data": {
      "text/html": [
       "<div>\n",
       "<style scoped>\n",
       "    .dataframe tbody tr th:only-of-type {\n",
       "        vertical-align: middle;\n",
       "    }\n",
       "\n",
       "    .dataframe tbody tr th {\n",
       "        vertical-align: top;\n",
       "    }\n",
       "\n",
       "    .dataframe thead th {\n",
       "        text-align: right;\n",
       "    }\n",
       "</style>\n",
       "<table border=\"1\" class=\"dataframe\">\n",
       "  <thead>\n",
       "    <tr style=\"text-align: right;\">\n",
       "      <th></th>\n",
       "      <th>Ind_ID</th>\n",
       "      <th>GENDER</th>\n",
       "      <th>Car_Owner</th>\n",
       "      <th>Propert_Owner</th>\n",
       "      <th>CHILDREN</th>\n",
       "      <th>Annual_income</th>\n",
       "      <th>Type_Income</th>\n",
       "      <th>EDUCATION</th>\n",
       "      <th>Marital_status</th>\n",
       "      <th>Housing_type</th>\n",
       "      <th>Birthday_count</th>\n",
       "      <th>Employed_days</th>\n",
       "      <th>Mobile_phone</th>\n",
       "      <th>Work_Phone</th>\n",
       "      <th>Phone</th>\n",
       "      <th>EMAIL_ID</th>\n",
       "      <th>Type_Occupation</th>\n",
       "      <th>Family_Members</th>\n",
       "      <th>label</th>\n",
       "    </tr>\n",
       "  </thead>\n",
       "  <tbody>\n",
       "    <tr>\n",
       "      <th>0</th>\n",
       "      <td>5008827</td>\n",
       "      <td>M</td>\n",
       "      <td>Y</td>\n",
       "      <td>Y</td>\n",
       "      <td>0</td>\n",
       "      <td>180000.0</td>\n",
       "      <td>Pensioner</td>\n",
       "      <td>Higher education</td>\n",
       "      <td>Married</td>\n",
       "      <td>House / apartment</td>\n",
       "      <td>-18772.0</td>\n",
       "      <td>365243</td>\n",
       "      <td>1</td>\n",
       "      <td>0</td>\n",
       "      <td>0</td>\n",
       "      <td>0</td>\n",
       "      <td>NaN</td>\n",
       "      <td>2</td>\n",
       "      <td>1</td>\n",
       "    </tr>\n",
       "    <tr>\n",
       "      <th>1</th>\n",
       "      <td>5009744</td>\n",
       "      <td>F</td>\n",
       "      <td>Y</td>\n",
       "      <td>N</td>\n",
       "      <td>0</td>\n",
       "      <td>315000.0</td>\n",
       "      <td>Commercial associate</td>\n",
       "      <td>Higher education</td>\n",
       "      <td>Married</td>\n",
       "      <td>House / apartment</td>\n",
       "      <td>-13557.0</td>\n",
       "      <td>-586</td>\n",
       "      <td>1</td>\n",
       "      <td>1</td>\n",
       "      <td>1</td>\n",
       "      <td>0</td>\n",
       "      <td>NaN</td>\n",
       "      <td>2</td>\n",
       "      <td>1</td>\n",
       "    </tr>\n",
       "    <tr>\n",
       "      <th>2</th>\n",
       "      <td>5009746</td>\n",
       "      <td>F</td>\n",
       "      <td>Y</td>\n",
       "      <td>N</td>\n",
       "      <td>0</td>\n",
       "      <td>315000.0</td>\n",
       "      <td>Commercial associate</td>\n",
       "      <td>Higher education</td>\n",
       "      <td>Married</td>\n",
       "      <td>House / apartment</td>\n",
       "      <td>NaN</td>\n",
       "      <td>-586</td>\n",
       "      <td>1</td>\n",
       "      <td>1</td>\n",
       "      <td>1</td>\n",
       "      <td>0</td>\n",
       "      <td>NaN</td>\n",
       "      <td>2</td>\n",
       "      <td>1</td>\n",
       "    </tr>\n",
       "    <tr>\n",
       "      <th>3</th>\n",
       "      <td>5009749</td>\n",
       "      <td>F</td>\n",
       "      <td>Y</td>\n",
       "      <td>N</td>\n",
       "      <td>0</td>\n",
       "      <td>NaN</td>\n",
       "      <td>Commercial associate</td>\n",
       "      <td>Higher education</td>\n",
       "      <td>Married</td>\n",
       "      <td>House / apartment</td>\n",
       "      <td>-13557.0</td>\n",
       "      <td>-586</td>\n",
       "      <td>1</td>\n",
       "      <td>1</td>\n",
       "      <td>1</td>\n",
       "      <td>0</td>\n",
       "      <td>NaN</td>\n",
       "      <td>2</td>\n",
       "      <td>1</td>\n",
       "    </tr>\n",
       "    <tr>\n",
       "      <th>4</th>\n",
       "      <td>5009752</td>\n",
       "      <td>F</td>\n",
       "      <td>Y</td>\n",
       "      <td>N</td>\n",
       "      <td>0</td>\n",
       "      <td>315000.0</td>\n",
       "      <td>Commercial associate</td>\n",
       "      <td>Higher education</td>\n",
       "      <td>Married</td>\n",
       "      <td>House / apartment</td>\n",
       "      <td>-13557.0</td>\n",
       "      <td>-586</td>\n",
       "      <td>1</td>\n",
       "      <td>1</td>\n",
       "      <td>1</td>\n",
       "      <td>0</td>\n",
       "      <td>NaN</td>\n",
       "      <td>2</td>\n",
       "      <td>1</td>\n",
       "    </tr>\n",
       "  </tbody>\n",
       "</table>\n",
       "</div>"
      ],
      "text/plain": [
       "    Ind_ID GENDER Car_Owner Propert_Owner  CHILDREN  Annual_income  \\\n",
       "0  5008827      M         Y             Y         0       180000.0   \n",
       "1  5009744      F         Y             N         0       315000.0   \n",
       "2  5009746      F         Y             N         0       315000.0   \n",
       "3  5009749      F         Y             N         0            NaN   \n",
       "4  5009752      F         Y             N         0       315000.0   \n",
       "\n",
       "            Type_Income         EDUCATION Marital_status       Housing_type  \\\n",
       "0             Pensioner  Higher education        Married  House / apartment   \n",
       "1  Commercial associate  Higher education        Married  House / apartment   \n",
       "2  Commercial associate  Higher education        Married  House / apartment   \n",
       "3  Commercial associate  Higher education        Married  House / apartment   \n",
       "4  Commercial associate  Higher education        Married  House / apartment   \n",
       "\n",
       "   Birthday_count  Employed_days  Mobile_phone  Work_Phone  Phone  EMAIL_ID  \\\n",
       "0        -18772.0         365243             1           0      0         0   \n",
       "1        -13557.0           -586             1           1      1         0   \n",
       "2             NaN           -586             1           1      1         0   \n",
       "3        -13557.0           -586             1           1      1         0   \n",
       "4        -13557.0           -586             1           1      1         0   \n",
       "\n",
       "  Type_Occupation  Family_Members  label  \n",
       "0             NaN               2      1  \n",
       "1             NaN               2      1  \n",
       "2             NaN               2      1  \n",
       "3             NaN               2      1  \n",
       "4             NaN               2      1  "
      ]
     },
     "execution_count": 579,
     "metadata": {},
     "output_type": "execute_result"
    }
   ],
   "source": [
    "df_fin.head()"
   ]
  },
  {
   "cell_type": "code",
   "execution_count": 513,
   "id": "35854f62",
   "metadata": {},
   "outputs": [
    {
     "data": {
      "text/plain": [
       "Ind_ID               int64\n",
       "GENDER              object\n",
       "Car_Owner           object\n",
       "Propert_Owner       object\n",
       "CHILDREN             int64\n",
       "Annual_income      float64\n",
       "Type_Income         object\n",
       "EDUCATION           object\n",
       "Marital_status      object\n",
       "Housing_type        object\n",
       "Birthday_count     float64\n",
       "Employed_days        int64\n",
       "Mobile_phone         int64\n",
       "Work_Phone           int64\n",
       "Phone                int64\n",
       "EMAIL_ID             int64\n",
       "Type_Occupation     object\n",
       "Family_Members       int64\n",
       "label                int64\n",
       "dtype: object"
      ]
     },
     "execution_count": 513,
     "metadata": {},
     "output_type": "execute_result"
    }
   ],
   "source": [
    "#Checking the datatypes of the columns in the dataframe.\n",
    "df_fin.dtypes"
   ]
  },
  {
   "cell_type": "markdown",
   "id": "a705909e",
   "metadata": {},
   "source": [
    "# Exploratory Analysis and Visualization\n",
    "\n",
    "Questions to be Answered:\n",
    "\n",
    "1) Are males having better credit than females? \n",
    "2) which type of income has a better credit score? \n",
    "2) Having a property a plus for credit card approval?\n",
    "3) Does number of children or no children affect the credit card score?\n",
    "4) Which class of workers have better approval rate?\n",
    "5) Does applicant's level of education play any part when it comes to approval of credit card?\n"
   ]
  },
  {
   "cell_type": "markdown",
   "id": "c155a534",
   "metadata": {},
   "source": [
    "Lets explore the column Gender.Let us see the total number of male and female candidates."
   ]
  },
  {
   "cell_type": "code",
   "execution_count": 514,
   "id": "44feeb18",
   "metadata": {},
   "outputs": [
    {
     "data": {
      "text/plain": [
       "GENDER\n",
       "F    973\n",
       "M    568\n",
       "Name: count, dtype: int64"
      ]
     },
     "execution_count": 514,
     "metadata": {},
     "output_type": "execute_result"
    }
   ],
   "source": [
    "df_fin['GENDER'].value_counts()"
   ]
  },
  {
   "cell_type": "markdown",
   "id": "4b1d7d7e",
   "metadata": {},
   "source": [
    "The number of female applicants are more than the male applicants."
   ]
  },
  {
   "cell_type": "code",
   "execution_count": 567,
   "id": "5b879c80",
   "metadata": {},
   "outputs": [
    {
     "data": {
      "text/plain": [
       "<Axes: xlabel='GENDER', ylabel='Count'>"
      ]
     },
     "execution_count": 567,
     "metadata": {},
     "output_type": "execute_result"
    },
    {
     "data": {
      "image/png": "[encoded data removed]",
      "text/plain": [
       "<Figure size 640x480 with 1 Axes>"
      ]
     },
     "metadata": {},
     "output_type": "display_data"
    }
   ],
   "source": [
    "sns.histplot(df_fin,x='GENDER',hue='label',multiple='dodge',legend=True)"
   ]
  },
  {
   "cell_type": "markdown",
   "id": "5ef86ffb",
   "metadata": {},
   "source": [
    "It can be inferred from the plot that as number of female applicants are significantly more than the male applicants,the \n",
    "rejections of female applicants is going to be more as comapred to the number of rejections of male applicants.\n",
    "At the same time, the number of female applicants credit card whose credit card is approved is just slightly higher than that of male applicants."
   ]
  },
  {
   "cell_type": "code",
   "execution_count": 199,
   "id": "ecb5598b",
   "metadata": {},
   "outputs": [
    {
     "name": "stdout",
     "output_type": "stream",
     "text": [
      "95\n",
      "75\n"
     ]
    }
   ],
   "source": [
    "f=df_fin.loc[(df_fin['GENDER']=='F') & (df_fin['label']==1)]\n",
    "print(len(f))\n",
    "\n",
    "m=df_fin.loc[(df_fin['GENDER']=='M') & (df_fin['label']==1)]\n",
    "print(len(m))"
   ]
  },
  {
   "cell_type": "code",
   "execution_count": 200,
   "id": "08565de6",
   "metadata": {},
   "outputs": [
    {
     "name": "stdout",
     "output_type": "stream",
     "text": [
      "312\n"
     ]
    }
   ],
   "source": [
    "f_m=df_fin.loc[(df_fin['GENDER']=='F') & (df_fin['label']==0)& (df_fin['Marital_status']=='Married')]\n",
    "f_m_nc=df_fin.loc[(df_fin['GENDER']=='F') & (df_fin['label']==0)& (df_fin['Marital_status']!='Married')]\n",
    "print(len(f_m_nc))"
   ]
  },
  {
   "cell_type": "markdown",
   "id": "79703b39",
   "metadata": {},
   "source": [
    "Checking if married females have better credit score than not married ones."
   ]
  },
  {
   "cell_type": "code",
   "execution_count": 207,
   "id": "35ea0d73",
   "metadata": {},
   "outputs": [
    {
     "data": {
      "text/plain": [
       "<Axes: xlabel='Count', ylabel='Marital_status'>"
      ]
     },
     "execution_count": 207,
     "metadata": {},
     "output_type": "execute_result"
    },
    {
     "data": {
      "image/png": "[encoded data removed]",
      "text/plain": [
       "<Figure size 640x480 with 1 Axes>"
      ]
     },
     "metadata": {},
     "output_type": "display_data"
    }
   ],
   "source": [
    "sns.histplot(df_fin['GENDER']=='F',y=df_fin['Marital_status'],hue=df_fin['label'],multiple='dodge')"
   ]
  },
  {
   "cell_type": "markdown",
   "id": "22730696",
   "metadata": {},
   "source": [
    "Number of married females are more than the rest of the categories.Hence, the rejection rate is also the highest."
   ]
  },
  {
   "cell_type": "markdown",
   "id": "dda6537f",
   "metadata": {},
   "source": [
    "Let us explore the Type_income and observe which group of income have better acceptance rate."
   ]
  },
  {
   "cell_type": "code",
   "execution_count": 309,
   "id": "203f096e",
   "metadata": {},
   "outputs": [
    {
     "data": {
      "text/plain": [
       "Type_Income\n",
       "Working                 798\n",
       "Commercial associate    365\n",
       "Pensioner               269\n",
       "State servant           116\n",
       "Name: count, dtype: int64"
      ]
     },
     "execution_count": 309,
     "metadata": {},
     "output_type": "execute_result"
    }
   ],
   "source": [
    "df_fin['Type_Income'].value_counts()"
   ]
  },
  {
   "cell_type": "code",
   "execution_count": 369,
   "id": "7b2146b3",
   "metadata": {},
   "outputs": [
    {
     "name": "stdout",
     "output_type": "stream",
     "text": [
      "9.649122807017543\n",
      "13.698630136986301\n",
      "15.613382899628252\n",
      "5.172413793103448\n"
     ]
    }
   ],
   "source": [
    "#Checking the approval percentage in each of Income group\n",
    "#Working Group\n",
    "print(len(df_fin.loc[(df_fin['Type_Income']=='Working') & df_fin['label']==1])/len(df_fin.loc[df_fin['Type_Income']=='Working'])*100)\n",
    "\n",
    " #Commercial Associate\n",
    "print(len(df_fin.loc[(df_fin['Type_Income']=='Commercial associate') & df_fin['label']==1])/len(df_fin.loc[df_fin['Type_Income']=='Commercial associate'])*100)\n",
    "\n",
    "#Pensioner\n",
    "print(len(df_fin.loc[(df_fin['Type_Income']=='Pensioner') & df_fin['label']==1])/len(df_fin.loc[df_fin['Type_Income']=='Pensioner'])*100)\n",
    "\n",
    "#State Servant\n",
    "print(len(df_fin.loc[(df_fin['Type_Income']=='State servant') & df_fin['label']==1])/len(df_fin.loc[df_fin['Type_Income']=='State servant'])*100)\n"
   ]
  },
  {
   "cell_type": "markdown",
   "id": "c221bc61",
   "metadata": {},
   "source": [
    "We can infer that Commercial Associates and Pensioners have better approval rate as compared to the other groups."
   ]
  },
  {
   "cell_type": "code",
   "execution_count": 188,
   "id": "6547901f",
   "metadata": {},
   "outputs": [
    {
     "data": {
      "text/plain": [
       "<Axes: xlabel='Type_Income', ylabel='Count'>"
      ]
     },
     "execution_count": 188,
     "metadata": {},
     "output_type": "execute_result"
    },
    {
     "data": {
      "image/png": "[encoded data removed]",
      "text/plain": [
       "<Figure size 640x480 with 1 Axes>"
      ]
     },
     "metadata": {},
     "output_type": "display_data"
    }
   ],
   "source": [
    "sns.histplot(df_fin,x='Type_Income',hue='label',multiple='stack')"
   ]
  },
  {
   "cell_type": "markdown",
   "id": "0fd43a9f",
   "metadata": {},
   "source": [
    "The number of applicants from working category are the highest.\n",
    "They have a relatively higher rejection rate compared to rest of the type_income category."
   ]
  },
  {
   "cell_type": "code",
   "execution_count": 375,
   "id": "82743854",
   "metadata": {},
   "outputs": [
    {
     "data": {
      "text/plain": [
       "Propert_Owner\n",
       "Y    1010\n",
       "N     538\n",
       "Name: count, dtype: int64"
      ]
     },
     "execution_count": 375,
     "metadata": {},
     "output_type": "execute_result"
    }
   ],
   "source": [
    "df_fin['Propert_Owner'].value_counts()"
   ]
  },
  {
   "cell_type": "code",
   "execution_count": 372,
   "id": "8afe4d9e",
   "metadata": {
    "scrolled": true
   },
   "outputs": [
    {
     "data": {
      "text/plain": [
       "<Axes: xlabel='Propert_Owner', ylabel='Count'>"
      ]
     },
     "execution_count": 372,
     "metadata": {},
     "output_type": "execute_result"
    },
    {
     "data": {
      "image/png": "[encoded data removed]",
      "text/plain": [
       "<Figure size 640x480 with 1 Axes>"
      ]
     },
     "metadata": {},
     "output_type": "display_data"
    }
   ],
   "source": [
    "sns.histplot(df_fin,x='Propert_Owner',hue='label',multiple='stack')"
   ]
  },
  {
   "cell_type": "markdown",
   "id": "aa4e906e",
   "metadata": {},
   "source": [
    "Almost 1000 applicants have a property while approximately 500 have none.The rejection rate in both the group is almost the same.It seems like having a property is not having an impact on deciding if an applicant is worthy of a credit card.\n",
    "We can probably drop this column before the training the data.Let us see the percentage of the people who own a property and have been approved the credit card as compared to the ones who dont but still have been approved  for the credit card"
   ]
  },
  {
   "cell_type": "code",
   "execution_count": 374,
   "id": "82dff664",
   "metadata": {},
   "outputs": [
    {
     "name": "stdout",
     "output_type": "stream",
     "text": [
      "10.891089108910892\n",
      "12.0817843866171\n"
     ]
    }
   ],
   "source": [
    "print(len(df_fin.loc[(df_fin['Propert_Owner']=='Y') & df_fin['label']==1])/len(df_fin.loc[df_fin['Propert_Owner']=='Y'])*100)\n",
    "\n",
    "print(len(df_fin.loc[(df_fin['Propert_Owner']=='N') & df_fin['label']==1])/len(df_fin.loc[df_fin['Propert_Owner']=='N'])*100)"
   ]
  },
  {
   "cell_type": "markdown",
   "id": "1732897d",
   "metadata": {},
   "source": [
    "Only 10% of the total applicants who have a property have been approved for credit card whereas the applicants who don't own a property have better approval rate."
   ]
  },
  {
   "cell_type": "code",
   "execution_count": 376,
   "id": "2b57bb9b",
   "metadata": {},
   "outputs": [
    {
     "data": {
      "text/plain": [
       "CHILDREN\n",
       "0     1091\n",
       "1      305\n",
       "2      134\n",
       "3       16\n",
       "4        1\n",
       "14       1\n",
       "Name: count, dtype: int64"
      ]
     },
     "execution_count": 376,
     "metadata": {},
     "output_type": "execute_result"
    }
   ],
   "source": [
    "df_fin['CHILDREN'].value_counts()"
   ]
  },
  {
   "cell_type": "markdown",
   "id": "f57bd5bb",
   "metadata": {},
   "source": [
    "The record with 14 children is clearly an outlier.Since its only one record,we can safely drop the particular record."
   ]
  },
  {
   "cell_type": "code",
   "execution_count": 378,
   "id": "5572960b",
   "metadata": {},
   "outputs": [
    {
     "data": {
      "text/html": [
       "<div>\n",
       "<style scoped>\n",
       "    .dataframe tbody tr th:only-of-type {\n",
       "        vertical-align: middle;\n",
       "    }\n",
       "\n",
       "    .dataframe tbody tr th {\n",
       "        vertical-align: top;\n",
       "    }\n",
       "\n",
       "    .dataframe thead th {\n",
       "        text-align: right;\n",
       "    }\n",
       "</style>\n",
       "<table border=\"1\" class=\"dataframe\">\n",
       "  <thead>\n",
       "    <tr style=\"text-align: right;\">\n",
       "      <th></th>\n",
       "      <th>Ind_ID</th>\n",
       "      <th>GENDER</th>\n",
       "      <th>Car_Owner</th>\n",
       "      <th>Propert_Owner</th>\n",
       "      <th>CHILDREN</th>\n",
       "      <th>Annual_income</th>\n",
       "      <th>Type_Income</th>\n",
       "      <th>EDUCATION</th>\n",
       "      <th>Marital_status</th>\n",
       "      <th>Housing_type</th>\n",
       "      <th>Birthday_count</th>\n",
       "      <th>Employed_days</th>\n",
       "      <th>Mobile_phone</th>\n",
       "      <th>Work_Phone</th>\n",
       "      <th>Phone</th>\n",
       "      <th>EMAIL_ID</th>\n",
       "      <th>Type_Occupation</th>\n",
       "      <th>Family_Members</th>\n",
       "      <th>label</th>\n",
       "    </tr>\n",
       "  </thead>\n",
       "  <tbody>\n",
       "    <tr>\n",
       "      <th>565</th>\n",
       "      <td>5061207</td>\n",
       "      <td>M</td>\n",
       "      <td>Y</td>\n",
       "      <td>Y</td>\n",
       "      <td>14</td>\n",
       "      <td>225000.0</td>\n",
       "      <td>Working</td>\n",
       "      <td>Secondary / secondary special</td>\n",
       "      <td>Separated</td>\n",
       "      <td>House / apartment</td>\n",
       "      <td>-17754.0</td>\n",
       "      <td>-1689</td>\n",
       "      <td>1</td>\n",
       "      <td>0</td>\n",
       "      <td>0</td>\n",
       "      <td>0</td>\n",
       "      <td>Drivers</td>\n",
       "      <td>15</td>\n",
       "      <td>0</td>\n",
       "    </tr>\n",
       "  </tbody>\n",
       "</table>\n",
       "</div>"
      ],
      "text/plain": [
       "      Ind_ID GENDER Car_Owner Propert_Owner  CHILDREN  Annual_income  \\\n",
       "565  5061207      M         Y             Y        14       225000.0   \n",
       "\n",
       "    Type_Income                      EDUCATION Marital_status  \\\n",
       "565     Working  Secondary / secondary special      Separated   \n",
       "\n",
       "          Housing_type  Birthday_count  Employed_days  Mobile_phone  \\\n",
       "565  House / apartment        -17754.0          -1689             1   \n",
       "\n",
       "     Work_Phone  Phone  EMAIL_ID Type_Occupation  Family_Members  label  \n",
       "565           0      0         0         Drivers              15      0  "
      ]
     },
     "execution_count": 378,
     "metadata": {},
     "output_type": "execute_result"
    }
   ],
   "source": [
    "df_fin.loc[df_fin['CHILDREN']==14]\n"
   ]
  },
  {
   "cell_type": "code",
   "execution_count": 379,
   "id": "56a1e0de",
   "metadata": {},
   "outputs": [],
   "source": [
    "df_fin.drop([565],inplace=True)"
   ]
  },
  {
   "cell_type": "code",
   "execution_count": null,
   "id": "6d803566",
   "metadata": {},
   "outputs": [],
   "source": [
    "Using the basic drop method,we drop the particular row."
   ]
  },
  {
   "cell_type": "code",
   "execution_count": 381,
   "id": "3ab779e1",
   "metadata": {},
   "outputs": [
    {
     "data": {
      "text/plain": [
       "<Axes: xlabel='CHILDREN', ylabel='Count'>"
      ]
     },
     "execution_count": 381,
     "metadata": {},
     "output_type": "execute_result"
    },
    {
     "data": {
      "image/png": "[encoded data removed]",
      "text/plain": [
       "<Figure size 640x480 with 1 Axes>"
      ]
     },
     "metadata": {},
     "output_type": "display_data"
    }
   ],
   "source": [
    "sns.histplot(df_fin,x='CHILDREN',hue='label',multiple='stack')"
   ]
  },
  {
   "cell_type": "markdown",
   "id": "b1bc7398",
   "metadata": {},
   "source": [
    "Major chunk of the applicants do not have kids and only 19% of total applicants have one kid and even lower percent of applicants have 2 or more than 2 kids.Approval rates in either of the group is not that significant. "
   ]
  },
  {
   "cell_type": "code",
   "execution_count": 383,
   "id": "01402e18",
   "metadata": {},
   "outputs": [
    {
     "name": "stdout",
     "output_type": "stream",
     "text": [
      "11.54903758020165\n"
     ]
    }
   ],
   "source": [
    "print(len(df_fin.loc[(df_fin['CHILDREN']==0) & df_fin['label']==1])/len(df_fin.loc[df_fin['CHILDREN']==0])*100)"
   ]
  },
  {
   "cell_type": "markdown",
   "id": "3d9f635c",
   "metadata": {},
   "source": [
    "70% of applicants do not have kids.Only 11% of applicants who don't have kids are approved for credit card."
   ]
  },
  {
   "cell_type": "markdown",
   "id": "156aaea2",
   "metadata": {},
   "source": [
    "Let us explore if type of occupation plays a significant part in determining the credibility of an applicant."
   ]
  },
  {
   "cell_type": "code",
   "execution_count": 356,
   "id": "7e28b444",
   "metadata": {},
   "outputs": [
    {
     "data": {
      "text/plain": [
       "<Axes: xlabel='Count', ylabel='Type_Occupation'>"
      ]
     },
     "execution_count": 356,
     "metadata": {},
     "output_type": "execute_result"
    },
    {
     "data": {
      "image/png": "[encoded data removed]",
      "text/plain": [
       "<Figure size 640x480 with 1 Axes>"
      ]
     },
     "metadata": {},
     "output_type": "display_data"
    }
   ],
   "source": [
    "sns.histplot(df_fin,y='Type_Occupation',hue='label',multiple='stack')"
   ]
  },
  {
   "cell_type": "markdown",
   "id": "137e93e9",
   "metadata": {},
   "source": [
    "Major workforce belongs to Laborers and the Core staff group.Next comes the Managers abd thhe Sales staff.Lets explore the group individually and determine the percentage of the (approved)applicants in these groups."
   ]
  },
  {
   "cell_type": "code",
   "execution_count": 400,
   "id": "2764a511",
   "metadata": {},
   "outputs": [
    {
     "name": "stdout",
     "output_type": "stream",
     "text": [
      "10.44776119402985\n",
      "13.218390804597702\n",
      "10.294117647058822\n",
      "8.19672131147541\n",
      "11.363636363636363\n"
     ]
    }
   ],
   "source": [
    "#Checking the approval rate \n",
    "#Laborers\n",
    "print(len(df_fin.loc[(df_fin['Type_Occupation']=='Laborers') & df_fin['label']==1])/len(df_fin.loc[df_fin['Type_Occupation']=='Laborers'])*100)\n",
    "\n",
    "\n",
    "#Core_staff\n",
    "print(len(df_fin.loc[(df_fin['Type_Occupation']=='Core staff') & df_fin['label']==1])/len(df_fin.loc[df_fin['Type_Occupation']=='Core staff'])*100)\n",
    "\n",
    "\n",
    "\n",
    "#Managers\n",
    "print(len(df_fin.loc[(df_fin['Type_Occupation']=='Managers') & df_fin['label']==1])/len(df_fin.loc[df_fin['Type_Occupation']=='Managers'])*100)\n",
    "\n",
    "#Sales_staff\n",
    "print(len(df_fin.loc[(df_fin['Type_Occupation']=='Sales staff') & df_fin['label']==1])/len(df_fin.loc[df_fin['Type_Occupation']=='Sales staff'])*100)\n",
    "\n",
    "\n",
    "print(len(df_fin.loc[(df_fin['Type_Occupation']=='Accountants') & df_fin['label']==1])/len(df_fin.loc[df_fin['Type_Occupation']=='Accountants'])*100)\n",
    "\n",
    "\n",
    "\n",
    "\n"
   ]
  },
  {
   "cell_type": "markdown",
   "id": "4d55cd8a",
   "metadata": {},
   "source": [
    "The approval rate for applicants is higher for Core_staff as compared to applicants pertaining to other groups.\n",
    "The approval percentage for Managers and Labourers is almost the same."
   ]
  },
  {
   "cell_type": "markdown",
   "id": "9b2227a2",
   "metadata": {},
   "source": [
    "Let us explore the Education column."
   ]
  },
  {
   "cell_type": "code",
   "execution_count": 208,
   "id": "fc11bd70",
   "metadata": {},
   "outputs": [
    {
     "data": {
      "text/plain": [
       "<Axes: xlabel='Count', ylabel='EDUCATION'>"
      ]
     },
     "execution_count": 208,
     "metadata": {},
     "output_type": "execute_result"
    },
    {
     "data": {
      "image/png": "[encoded data removed]",
      "text/plain": [
       "<Figure size 640x480 with 1 Axes>"
      ]
     },
     "metadata": {},
     "output_type": "display_data"
    }
   ],
   "source": [
    "sns.histplot(df_fin,y='EDUCATION',hue='label',multiple='dodge')"
   ]
  },
  {
   "cell_type": "markdown",
   "id": "d3a6fdea",
   "metadata": {},
   "source": [
    "Most applicants have Secondary/Secondary special education.The applicants with HigherEducation seems to have a better chances of getting approved."
   ]
  },
  {
   "cell_type": "code",
   "execution_count": 397,
   "id": "2aeb08b1",
   "metadata": {},
   "outputs": [
    {
     "name": "stdout",
     "output_type": "stream",
     "text": [
      "12.910798122065728\n",
      "10.58252427184466\n",
      "28.57142857142857\n"
     ]
    }
   ],
   "source": [
    "print(len(df_fin.loc[(df_fin['EDUCATION']=='Higher education') & df_fin['label']==1])/len(df_fin.loc[df_fin['EDUCATION']=='Higher education'])*100)\n",
    "\n",
    "\n",
    "\n",
    "print(len(df_fin.loc[(df_fin['EDUCATION']=='Secondary / secondary special') & df_fin['label']==1])/len(df_fin.loc[df_fin['EDUCATION']=='Secondary / secondary special'])*100)\n",
    "\n",
    "\n",
    "print(len(df_fin.loc[(df_fin['EDUCATION']=='Lower secondary') & df_fin['label']==1])/len(df_fin.loc[df_fin['EDUCATION']=='Lower secondary'])*100)\n",
    "\n",
    "\n"
   ]
  },
  {
   "cell_type": "markdown",
   "id": "bf49d338",
   "metadata": {},
   "source": [
    "Though Higher and Secondary education are the major groups ,the lower secondary education have a better approval percentage."
   ]
  },
  {
   "cell_type": "markdown",
   "id": "a3f9f32b",
   "metadata": {},
   "source": [
    "Let us explore the Annual income group."
   ]
  },
  {
   "cell_type": "code",
   "execution_count": 290,
   "id": "ad0b129b",
   "metadata": {},
   "outputs": [
    {
     "name": "stdout",
     "output_type": "stream",
     "text": [
      "1287\n",
      "140\n",
      "261\n"
     ]
    }
   ],
   "source": [
    "# Applicants who are working\n",
    "print(len(df_fin[df_fin['Employed_days']<0]))\n",
    "#Applicants who are working and got the approval.\n",
    "print(len(df_fin.loc[(df_fin['Employed_days']<0)& (df_fin['label']==1)]))\n",
    "# Applicants who are non-working\n",
    "print(len(df_fin[df_fin['Employed_days']>=0]))"
   ]
  },
  {
   "cell_type": "code",
   "execution_count": 519,
   "id": "287d8c1f",
   "metadata": {},
   "outputs": [
    {
     "data": {
      "text/plain": [
       "<Axes: xlabel='Annual_income', ylabel='Count'>"
      ]
     },
     "execution_count": 519,
     "metadata": {},
     "output_type": "execute_result"
    },
    {
     "data": {
      "image/png": "[encoded data removed]",
      "text/plain": [
       "<Figure size 640x480 with 1 Axes>"
      ]
     },
     "metadata": {},
     "output_type": "display_data"
    }
   ],
   "source": [
    "sns.histplot(df_fin,x='Annual_income',hue='label',multiple='dodge',bins=10)"
   ]
  },
  {
   "cell_type": "code",
   "execution_count": 412,
   "id": "f767905f",
   "metadata": {},
   "outputs": [
    {
     "data": {
      "text/plain": [
       "<Axes: xlabel='Count', ylabel='Family_Members'>"
      ]
     },
     "execution_count": 412,
     "metadata": {},
     "output_type": "execute_result"
    },
    {
     "data": {
      "image/png": "[encoded data removed]",
      "text/plain": [
       "<Figure size 640x480 with 1 Axes>"
      ]
     },
     "metadata": {},
     "output_type": "display_data"
    }
   ],
   "source": [
    "sns.histplot(df_fin,y='Family_Members',hue='label',multiple='dodge')"
   ]
  },
  {
   "cell_type": "markdown",
   "id": "6360b48d",
   "metadata": {},
   "source": [
    "The number of families with 2 members are in majority.However,the rejection rate is also higher as compared to those with only\n",
    "one family member."
   ]
  },
  {
   "cell_type": "code",
   "execution_count": 582,
   "id": "039e0a21",
   "metadata": {},
   "outputs": [
    {
     "name": "stdout",
     "output_type": "stream",
     "text": [
      "10.820895522388058\n",
      "11.970074812967582\n",
      "11.676646706586826\n"
     ]
    }
   ],
   "source": [
    "#applicants having 3 family members\n",
    "print(len(df_fin.loc[(df_fin['Family_Members']==3) & df_fin['label']==1])/len(df_fin.loc[(df_fin['Family_Members']==3)])*100)\n",
    "\n",
    "\n",
    "#applicants having 2 family members\n",
    "print(len(df_fin.loc[(df_fin['Family_Members']==2) & df_fin['label']==1])/len(df_fin.loc[(df_fin['Family_Members']==2)])*100)\n",
    "\n",
    "\n",
    "#applicants having 1 family members\n",
    "print(len(df_fin.loc[(df_fin['Family_Members']==1) & df_fin['label']==1])/len(df_fin.loc[(df_fin['Family_Members']==1)])*100)"
   ]
  },
  {
   "cell_type": "code",
   "execution_count": 586,
   "id": "f9e97c03",
   "metadata": {},
   "outputs": [
    {
     "name": "stdout",
     "output_type": "stream",
     "text": [
      "1287\n",
      "140\n"
     ]
    }
   ],
   "source": [
    "# total no of applicants who are currently working\n",
    "print(len(df_fin.loc[df_fin['Employed_days']<=0]))\n",
    "\n",
    "\n",
    "# total number of applicants who are working and approved for credit_Card\n",
    "print(len((df_fin.loc[(df_fin['Employed_days']<=0) & (df_fin['label']==1)])))"
   ]
  },
  {
   "cell_type": "markdown",
   "id": "3e626f42",
   "metadata": {},
   "source": [
    "There are 1287 applicants who are currently working.\n",
    "Only 140 applicants (who are working) out of the 1287 applicants have got the approval for the credit card.\n",
    "261  applicants are non-working.\n",
    "Let us see the approval rate in non-working category."
   ]
  },
  {
   "cell_type": "code",
   "execution_count": 291,
   "id": "5e359c6a",
   "metadata": {},
   "outputs": [
    {
     "name": "stdout",
     "output_type": "stream",
     "text": [
      "35\n"
     ]
    }
   ],
   "source": [
    "#No of approvals in non-working category.\n",
    "print(len(df_fin.loc[(df_fin['Employed_days']>=0)& (df_fin['label']==1)]))"
   ]
  },
  {
   "cell_type": "markdown",
   "id": "1413f4b7",
   "metadata": {},
   "source": [
    "35 out of 261 applicants who are non working have got the approval for the credit card.Let us check if these non working applicants are pensioners."
   ]
  },
  {
   "cell_type": "code",
   "execution_count": 292,
   "id": "01bc710f",
   "metadata": {},
   "outputs": [
    {
     "name": "stdout",
     "output_type": "stream",
     "text": [
      "269\n",
      "35\n",
      "226\n"
     ]
    }
   ],
   "source": [
    "#df_fin.loc[(df_fin['Employed_days']>=0)& (df_fin['label']==1)]\n",
    "#No of pensioners \n",
    "print(len(df_fin.loc[df_fin['Type_Income']=='Pensioner']))\n",
    "#no of pensioners who have got the approval for credit_card\n",
    "print(len(df_fin.loc[(df_fin['Employed_days']>=0)& (df_fin['label']==1) & (df_fin['Type_Income']=='Pensioner')]))\n",
    "#no of pensioners who have got rejected for credit_card\n",
    "print(len(df_fin.loc[(df_fin['Employed_days']>=0)& (df_fin['label']==0) & (df_fin['Type_Income']=='Pensioner')]))"
   ]
  },
  {
   "cell_type": "markdown",
   "id": "a5aad6ae",
   "metadata": {},
   "source": [
    "Approximately 25% of the credit-card approved applicants are pensioners.\n",
    "There are 269 pensioners and only 35 pensioners are termed fit for credit card."
   ]
  },
  {
   "cell_type": "markdown",
   "id": "2deb20d0",
   "metadata": {},
   "source": [
    "# Ydata profiling"
   ]
  },
  {
   "cell_type": "code",
   "execution_count": 53,
   "id": "0e2ab670",
   "metadata": {},
   "outputs": [],
   "source": [
    "df_d=df_fin.drop(['Ind_ID'],axis=1)"
   ]
  },
  {
   "cell_type": "code",
   "execution_count": 54,
   "id": "3146d031",
   "metadata": {},
   "outputs": [
    {
     "data": {
      "application/vnd.jupyter.widget-view+json": {
       "model_id": "588ca7a1e4cc47e48636e9b5f8ce99ce",
       "version_major": 2,
       "version_minor": 0
      },
      "text/plain": [
       "Summarize dataset:   0%|          | 0/5 [00:00<?, ?it/s]"
      ]
     },
     "metadata": {},
     "output_type": "display_data"
    },
    {
     "data": {
      "application/vnd.jupyter.widget-view+json": {
       "model_id": "7d22fd348ecc43e4a8c4093ce9bd0ff0",
       "version_major": 2,
       "version_minor": 0
      },
      "text/plain": [
       "Generate report structure:   0%|          | 0/1 [00:00<?, ?it/s]"
      ]
     },
     "metadata": {},
     "output_type": "display_data"
    },
    {
     "data": {
      "application/vnd.jupyter.widget-view+json": {
       "model_id": "20bc299ee6b64b70af68b6394ccf4753",
       "version_major": 2,
       "version_minor": 0
      },
      "text/plain": [
       "Render HTML:   0%|          | 0/1 [00:00<?, ?it/s]"
      ]
     },
     "metadata": {},
     "output_type": "display_data"
    },
    {
     "data": {
      "application/vnd.jupyter.widget-view+json": {
       "model_id": "a68f810d458a40a283c3b81f55204691",
       "version_major": 2,
       "version_minor": 0
      },
      "text/plain": [
       "Export report to file:   0%|          | 0/1 [00:00<?, ?it/s]"
      ]
     },
     "metadata": {},
     "output_type": "display_data"
    }
   ],
   "source": [
    "prof = ProfileReport(df_d)\n",
    "prof.to_file(output_file='output_credit_card.html')"
   ]
  },
  {
   "cell_type": "markdown",
   "id": "aa608aa7",
   "metadata": {},
   "source": [
    "We perform the Ydata profiling which give us great insights.\n",
    "We can infer from the output that the value for mobile is constant.All the applicants have a mobile phone.\n",
    "Since the value is constant, we can drop the column.\n",
    "The columns which have fairly good correlation with the output column are Housing_type,Annual_income,Type_Occupation,Type_income."
   ]
  },
  {
   "cell_type": "markdown",
   "id": "a2537fe1",
   "metadata": {},
   "source": [
    "Other Insights:\n",
    "\n",
    "Annual_income column:\n",
    "11% of the total applicants fall in the range of 135000.\n",
    "\n",
    "\n",
    "\n"
   ]
  },
  {
   "cell_type": "markdown",
   "id": "ee6361be",
   "metadata": {},
   "source": [
    "# Handling missing values."
   ]
  },
  {
   "cell_type": "code",
   "execution_count": 587,
   "id": "cf3e1630",
   "metadata": {},
   "outputs": [
    {
     "data": {
      "text/plain": [
       "Ind_ID              0.000000\n",
       "GENDER              0.452196\n",
       "Car_Owner           0.000000\n",
       "Propert_Owner       0.000000\n",
       "CHILDREN            0.000000\n",
       "Annual_income       1.485788\n",
       "Type_Income         0.000000\n",
       "EDUCATION           0.000000\n",
       "Marital_status      0.000000\n",
       "Housing_type        0.000000\n",
       "Birthday_count      1.421189\n",
       "Employed_days       0.000000\n",
       "Mobile_phone        0.000000\n",
       "Work_Phone          0.000000\n",
       "Phone               0.000000\n",
       "EMAIL_ID            0.000000\n",
       "Type_Occupation    31.524548\n",
       "Family_Members      0.000000\n",
       "label               0.000000\n",
       "dtype: float64"
      ]
     },
     "execution_count": 587,
     "metadata": {},
     "output_type": "execute_result"
    }
   ],
   "source": [
    "df_fin.isnull().mean()*100\n"
   ]
  },
  {
   "cell_type": "markdown",
   "id": "c74950e8",
   "metadata": {},
   "source": [
    "As the percentage of missing values in both Annual_income and birthday_count column are less 5%,we can delete these rows from the dataframe.\n",
    "\n",
    "As discussed earlier,since the mobile_phone has constant value throughout,we can drop the column from the dataframe before treating the missing values."
   ]
  },
  {
   "cell_type": "code",
   "execution_count": 588,
   "id": "5c5b45cf",
   "metadata": {},
   "outputs": [],
   "source": [
    "df_fin.drop('Mobile_phone',axis=1,inplace=True)"
   ]
  },
  {
   "cell_type": "code",
   "execution_count": 589,
   "id": "6a2f49c4",
   "metadata": {},
   "outputs": [],
   "source": [
    "df_fin.dropna(subset=['Annual_income','Birthday_count','GENDER'],inplace=True)"
   ]
  },
  {
   "cell_type": "markdown",
   "id": "8063df4c",
   "metadata": {},
   "source": [
    "There are 471 missing values in the type_occupation column.\n",
    "421 applicants are those whose credit_card was rejected and the rest 50 applicants were approved."
   ]
  },
  {
   "cell_type": "markdown",
   "id": "1a4030a9",
   "metadata": {},
   "source": [
    "We can use IterativeImputer to impute the Type_Occupation column.From the Y_data profiling, we can infer that the output column has relatively better correlation with columns like housing_type,type_income,education,"
   ]
  },
  {
   "cell_type": "markdown",
   "id": "a2fed5e3",
   "metadata": {},
   "source": [
    "Before we proceed with the Label encoding, we can drop the Ind_Id column as it won't be required for training the model"
   ]
  },
  {
   "cell_type": "code",
   "execution_count": 590,
   "id": "a4190175",
   "metadata": {},
   "outputs": [],
   "source": [
    "df_fin.drop('Ind_ID',axis=1,inplace=True)"
   ]
  },
  {
   "cell_type": "code",
   "execution_count": 524,
   "id": "05ae7cd6",
   "metadata": {},
   "outputs": [],
   "source": [
    "from sklearn.preprocessing import LabelEncoder\n",
    "le=LabelEncoder()"
   ]
  },
  {
   "cell_type": "code",
   "execution_count": 525,
   "id": "3afbe318",
   "metadata": {},
   "outputs": [],
   "source": [
    "impute_col='Type_Occupation'\n",
    "impute_col_encoded='Type_Occupation_no'"
   ]
  },
  {
   "cell_type": "code",
   "execution_count": 526,
   "id": "59454f7a",
   "metadata": {},
   "outputs": [
    {
     "data": {
      "text/html": [
       "<style>#sk-container-id-12 {color: black;}#sk-container-id-12 pre{padding: 0;}#sk-container-id-12 div.sk-toggleable {background-color: white;}#sk-container-id-12 label.sk-toggleable__label {cursor: pointer;display: block;width: 100%;margin-bottom: 0;padding: 0.3em;box-sizing: border-box;text-align: center;}#sk-container-id-12 label.sk-toggleable__label-arrow:before {content: \"▸\";float: left;margin-right: 0.25em;color: #696969;}#sk-container-id-12 label.sk-toggleable__label-arrow:hover:before {color: black;}#sk-container-id-12 div.sk-estimator:hover label.sk-toggleable__label-arrow:before {color: black;}#sk-container-id-12 div.sk-toggleable__content {max-height: 0;max-width: 0;overflow: hidden;text-align: left;background-color: #f0f8ff;}#sk-container-id-12 div.sk-toggleable__content pre {margin: 0.2em;color: black;border-radius: 0.25em;background-color: #f0f8ff;}#sk-container-id-12 input.sk-toggleable__control:checked~div.sk-toggleable__content {max-height: 200px;max-width: 100%;overflow: auto;}#sk-container-id-12 input.sk-toggleable__control:checked~label.sk-toggleable__label-arrow:before {content: \"▾\";}#sk-container-id-12 div.sk-estimator input.sk-toggleable__control:checked~label.sk-toggleable__label {background-color: #d4ebff;}#sk-container-id-12 div.sk-label input.sk-toggleable__control:checked~label.sk-toggleable__label {background-color: #d4ebff;}#sk-container-id-12 input.sk-hidden--visually {border: 0;clip: rect(1px 1px 1px 1px);clip: rect(1px, 1px, 1px, 1px);height: 1px;margin: -1px;overflow: hidden;padding: 0;position: absolute;width: 1px;}#sk-container-id-12 div.sk-estimator {font-family: monospace;background-color: #f0f8ff;border: 1px dotted black;border-radius: 0.25em;box-sizing: border-box;margin-bottom: 0.5em;}#sk-container-id-12 div.sk-estimator:hover {background-color: #d4ebff;}#sk-container-id-12 div.sk-parallel-item::after {content: \"\";width: 100%;border-bottom: 1px solid gray;flex-grow: 1;}#sk-container-id-12 div.sk-label:hover label.sk-toggleable__label {background-color: #d4ebff;}#sk-container-id-12 div.sk-serial::before {content: \"\";position: absolute;border-left: 1px solid gray;box-sizing: border-box;top: 0;bottom: 0;left: 50%;z-index: 0;}#sk-container-id-12 div.sk-serial {display: flex;flex-direction: column;align-items: center;background-color: white;padding-right: 0.2em;padding-left: 0.2em;position: relative;}#sk-container-id-12 div.sk-item {position: relative;z-index: 1;}#sk-container-id-12 div.sk-parallel {display: flex;align-items: stretch;justify-content: center;background-color: white;position: relative;}#sk-container-id-12 div.sk-item::before, #sk-container-id-12 div.sk-parallel-item::before {content: \"\";position: absolute;border-left: 1px solid gray;box-sizing: border-box;top: 0;bottom: 0;left: 50%;z-index: -1;}#sk-container-id-12 div.sk-parallel-item {display: flex;flex-direction: column;z-index: 1;position: relative;background-color: white;}#sk-container-id-12 div.sk-parallel-item:first-child::after {align-self: flex-end;width: 50%;}#sk-container-id-12 div.sk-parallel-item:last-child::after {align-self: flex-start;width: 50%;}#sk-container-id-12 div.sk-parallel-item:only-child::after {width: 0;}#sk-container-id-12 div.sk-dashed-wrapped {border: 1px dashed gray;margin: 0 0.4em 0.5em 0.4em;box-sizing: border-box;padding-bottom: 0.4em;background-color: white;}#sk-container-id-12 div.sk-label label {font-family: monospace;font-weight: bold;display: inline-block;line-height: 1.2em;}#sk-container-id-12 div.sk-label-container {text-align: center;}#sk-container-id-12 div.sk-container {/* jupyter's `normalize.less` sets `[hidden] { display: none; }` but bootstrap.min.css set `[hidden] { display: none !important; }` so we also need the `!important` here to be able to override the default hidden behavior on the sphinx rendered scikit-learn.org. See: https://github.com/scikit-learn/scikit-learn/issues/21755 */display: inline-block !important;position: relative;}#sk-container-id-12 div.sk-text-repr-fallback {display: none;}</style><div id=\"sk-container-id-12\" class=\"sk-top-container\"><div class=\"sk-text-repr-fallback\"><pre>LabelEncoder()</pre><b>In a Jupyter environment, please rerun this cell to show the HTML representation or trust the notebook. <br />On GitHub, the HTML representation is unable to render, please try loading this page with nbviewer.org.</b></div><div class=\"sk-container\" hidden><div class=\"sk-item\"><div class=\"sk-estimator sk-toggleable\"><input class=\"sk-toggleable__control sk-hidden--visually\" id=\"sk-estimator-id-12\" type=\"checkbox\" checked><label for=\"sk-estimator-id-12\" class=\"sk-toggleable__label sk-toggleable__label-arrow\">LabelEncoder</label><div class=\"sk-toggleable__content\"><pre>LabelEncoder()</pre></div></div></div></div></div>"
      ],
      "text/plain": [
       "LabelEncoder()"
      ]
     },
     "execution_count": 526,
     "metadata": {},
     "output_type": "execute_result"
    }
   ],
   "source": [
    "le.fit(df_fin.loc[:,impute_col])"
   ]
  },
  {
   "cell_type": "code",
   "execution_count": 527,
   "id": "6600b774",
   "metadata": {},
   "outputs": [],
   "source": [
    "l_1=LabelEncoder()\n",
    "l_2=LabelEncoder()\n",
    "l_3=LabelEncoder()\n",
    "l_4=LabelEncoder()\n",
    "l_5=LabelEncoder()\n",
    "l_6=LabelEncoder()\n",
    "l_7=LabelEncoder()"
   ]
  },
  {
   "cell_type": "code",
   "execution_count": 528,
   "id": "da16eb94",
   "metadata": {},
   "outputs": [],
   "source": [
    "df_fin['GENDER']=l_1.fit_transform(df_fin['GENDER'])\n",
    "df_fin['Car_Owner']=l_2.fit_transform(df_fin['Car_Owner'])\n",
    "df_fin['Propert_Owner']=l_3.fit_transform(df_fin['Propert_Owner'])\n",
    "df_fin['Type_Income']=l_4.fit_transform(df_fin['Type_Income'])\n",
    "df_fin['EDUCATION']=l_5.fit_transform(df_fin['EDUCATION'])\n",
    "df_fin['Marital_status']=l_6.fit_transform(df_fin['Marital_status'])\n",
    "df_fin['Housing_type']=l_7.fit_transform(df_fin['Housing_type'])"
   ]
  },
  {
   "cell_type": "code",
   "execution_count": 529,
   "id": "9be9ee4d",
   "metadata": {},
   "outputs": [
    {
     "data": {
      "text/html": [
       "<div>\n",
       "<style scoped>\n",
       "    .dataframe tbody tr th:only-of-type {\n",
       "        vertical-align: middle;\n",
       "    }\n",
       "\n",
       "    .dataframe tbody tr th {\n",
       "        vertical-align: top;\n",
       "    }\n",
       "\n",
       "    .dataframe thead th {\n",
       "        text-align: right;\n",
       "    }\n",
       "</style>\n",
       "<table border=\"1\" class=\"dataframe\">\n",
       "  <thead>\n",
       "    <tr style=\"text-align: right;\">\n",
       "      <th></th>\n",
       "      <th>GENDER</th>\n",
       "      <th>Car_Owner</th>\n",
       "      <th>Propert_Owner</th>\n",
       "      <th>CHILDREN</th>\n",
       "      <th>Annual_income</th>\n",
       "      <th>Type_Income</th>\n",
       "      <th>EDUCATION</th>\n",
       "      <th>Marital_status</th>\n",
       "      <th>Housing_type</th>\n",
       "      <th>Birthday_count</th>\n",
       "      <th>Employed_days</th>\n",
       "      <th>Work_Phone</th>\n",
       "      <th>Phone</th>\n",
       "      <th>EMAIL_ID</th>\n",
       "      <th>Type_Occupation</th>\n",
       "      <th>Family_Members</th>\n",
       "      <th>label</th>\n",
       "    </tr>\n",
       "  </thead>\n",
       "  <tbody>\n",
       "    <tr>\n",
       "      <th>0</th>\n",
       "      <td>1</td>\n",
       "      <td>1</td>\n",
       "      <td>1</td>\n",
       "      <td>0</td>\n",
       "      <td>180000.0</td>\n",
       "      <td>1</td>\n",
       "      <td>1</td>\n",
       "      <td>1</td>\n",
       "      <td>1</td>\n",
       "      <td>-18772.0</td>\n",
       "      <td>365243</td>\n",
       "      <td>0</td>\n",
       "      <td>0</td>\n",
       "      <td>0</td>\n",
       "      <td>NaN</td>\n",
       "      <td>2</td>\n",
       "      <td>1</td>\n",
       "    </tr>\n",
       "    <tr>\n",
       "      <th>1</th>\n",
       "      <td>0</td>\n",
       "      <td>1</td>\n",
       "      <td>0</td>\n",
       "      <td>0</td>\n",
       "      <td>315000.0</td>\n",
       "      <td>0</td>\n",
       "      <td>1</td>\n",
       "      <td>1</td>\n",
       "      <td>1</td>\n",
       "      <td>-13557.0</td>\n",
       "      <td>-586</td>\n",
       "      <td>1</td>\n",
       "      <td>1</td>\n",
       "      <td>0</td>\n",
       "      <td>NaN</td>\n",
       "      <td>2</td>\n",
       "      <td>1</td>\n",
       "    </tr>\n",
       "    <tr>\n",
       "      <th>4</th>\n",
       "      <td>0</td>\n",
       "      <td>1</td>\n",
       "      <td>0</td>\n",
       "      <td>0</td>\n",
       "      <td>315000.0</td>\n",
       "      <td>0</td>\n",
       "      <td>1</td>\n",
       "      <td>1</td>\n",
       "      <td>1</td>\n",
       "      <td>-13557.0</td>\n",
       "      <td>-586</td>\n",
       "      <td>1</td>\n",
       "      <td>1</td>\n",
       "      <td>0</td>\n",
       "      <td>NaN</td>\n",
       "      <td>2</td>\n",
       "      <td>1</td>\n",
       "    </tr>\n",
       "    <tr>\n",
       "      <th>6</th>\n",
       "      <td>0</td>\n",
       "      <td>1</td>\n",
       "      <td>0</td>\n",
       "      <td>0</td>\n",
       "      <td>315000.0</td>\n",
       "      <td>0</td>\n",
       "      <td>1</td>\n",
       "      <td>1</td>\n",
       "      <td>1</td>\n",
       "      <td>-13557.0</td>\n",
       "      <td>-586</td>\n",
       "      <td>1</td>\n",
       "      <td>1</td>\n",
       "      <td>0</td>\n",
       "      <td>NaN</td>\n",
       "      <td>2</td>\n",
       "      <td>1</td>\n",
       "    </tr>\n",
       "    <tr>\n",
       "      <th>7</th>\n",
       "      <td>0</td>\n",
       "      <td>0</td>\n",
       "      <td>0</td>\n",
       "      <td>0</td>\n",
       "      <td>180000.0</td>\n",
       "      <td>1</td>\n",
       "      <td>4</td>\n",
       "      <td>1</td>\n",
       "      <td>1</td>\n",
       "      <td>-22134.0</td>\n",
       "      <td>365243</td>\n",
       "      <td>0</td>\n",
       "      <td>0</td>\n",
       "      <td>0</td>\n",
       "      <td>NaN</td>\n",
       "      <td>2</td>\n",
       "      <td>1</td>\n",
       "    </tr>\n",
       "    <tr>\n",
       "      <th>8</th>\n",
       "      <td>1</td>\n",
       "      <td>1</td>\n",
       "      <td>1</td>\n",
       "      <td>1</td>\n",
       "      <td>450000.0</td>\n",
       "      <td>0</td>\n",
       "      <td>4</td>\n",
       "      <td>1</td>\n",
       "      <td>1</td>\n",
       "      <td>-18173.0</td>\n",
       "      <td>-678</td>\n",
       "      <td>0</td>\n",
       "      <td>1</td>\n",
       "      <td>1</td>\n",
       "      <td>Core staff</td>\n",
       "      <td>3</td>\n",
       "      <td>1</td>\n",
       "    </tr>\n",
       "    <tr>\n",
       "      <th>9</th>\n",
       "      <td>1</td>\n",
       "      <td>1</td>\n",
       "      <td>1</td>\n",
       "      <td>1</td>\n",
       "      <td>450000.0</td>\n",
       "      <td>1</td>\n",
       "      <td>4</td>\n",
       "      <td>1</td>\n",
       "      <td>1</td>\n",
       "      <td>-18173.0</td>\n",
       "      <td>-678</td>\n",
       "      <td>0</td>\n",
       "      <td>1</td>\n",
       "      <td>1</td>\n",
       "      <td>Core staff</td>\n",
       "      <td>3</td>\n",
       "      <td>1</td>\n",
       "    </tr>\n",
       "    <tr>\n",
       "      <th>10</th>\n",
       "      <td>1</td>\n",
       "      <td>1</td>\n",
       "      <td>1</td>\n",
       "      <td>1</td>\n",
       "      <td>450000.0</td>\n",
       "      <td>0</td>\n",
       "      <td>4</td>\n",
       "      <td>3</td>\n",
       "      <td>1</td>\n",
       "      <td>-18173.0</td>\n",
       "      <td>-678</td>\n",
       "      <td>0</td>\n",
       "      <td>1</td>\n",
       "      <td>1</td>\n",
       "      <td>Core staff</td>\n",
       "      <td>1</td>\n",
       "      <td>1</td>\n",
       "    </tr>\n",
       "  </tbody>\n",
       "</table>\n",
       "</div>"
      ],
      "text/plain": [
       "    GENDER  Car_Owner  Propert_Owner  CHILDREN  Annual_income  Type_Income  \\\n",
       "0        1          1              1         0       180000.0            1   \n",
       "1        0          1              0         0       315000.0            0   \n",
       "4        0          1              0         0       315000.0            0   \n",
       "6        0          1              0         0       315000.0            0   \n",
       "7        0          0              0         0       180000.0            1   \n",
       "8        1          1              1         1       450000.0            0   \n",
       "9        1          1              1         1       450000.0            1   \n",
       "10       1          1              1         1       450000.0            0   \n",
       "\n",
       "    EDUCATION  Marital_status  Housing_type  Birthday_count  Employed_days  \\\n",
       "0           1               1             1        -18772.0         365243   \n",
       "1           1               1             1        -13557.0           -586   \n",
       "4           1               1             1        -13557.0           -586   \n",
       "6           1               1             1        -13557.0           -586   \n",
       "7           4               1             1        -22134.0         365243   \n",
       "8           4               1             1        -18173.0           -678   \n",
       "9           4               1             1        -18173.0           -678   \n",
       "10          4               3             1        -18173.0           -678   \n",
       "\n",
       "    Work_Phone  Phone  EMAIL_ID Type_Occupation  Family_Members  label  \n",
       "0            0      0         0             NaN               2      1  \n",
       "1            1      1         0             NaN               2      1  \n",
       "4            1      1         0             NaN               2      1  \n",
       "6            1      1         0             NaN               2      1  \n",
       "7            0      0         0             NaN               2      1  \n",
       "8            0      1         1      Core staff               3      1  \n",
       "9            0      1         1      Core staff               3      1  \n",
       "10           0      1         1      Core staff               1      1  "
      ]
     },
     "execution_count": 529,
     "metadata": {},
     "output_type": "execute_result"
    }
   ],
   "source": [
    "df_fin.head(8)"
   ]
  },
  {
   "cell_type": "code",
   "execution_count": 530,
   "id": "074913b0",
   "metadata": {},
   "outputs": [
    {
     "data": {
      "text/plain": [
       "{'Accountants': 0,\n",
       " 'Cleaning staff': 1,\n",
       " 'Cooking staff': 2,\n",
       " 'Core staff': 3,\n",
       " 'Drivers': 4,\n",
       " 'HR staff': 5,\n",
       " 'High skill tech staff': 6,\n",
       " 'IT staff': 7,\n",
       " 'Laborers': 8,\n",
       " 'Low-skill Laborers': 9,\n",
       " 'Managers': 10,\n",
       " 'Medicine staff': 11,\n",
       " 'Private service staff': 12,\n",
       " 'Realty agents': 13,\n",
       " 'Sales staff': 14,\n",
       " 'Secretaries': 15,\n",
       " 'Security staff': 16,\n",
       " 'Waiters/barmen staff': 17,\n",
       " nan: 18}"
      ]
     },
     "execution_count": 530,
     "metadata": {},
     "output_type": "execute_result"
    }
   ],
   "source": [
    "dict(zip(le.classes_,le.transform(le.classes_)))"
   ]
  },
  {
   "cell_type": "code",
   "execution_count": 531,
   "id": "925ed2be",
   "metadata": {},
   "outputs": [
    {
     "data": {
      "text/html": [
       "<div>\n",
       "<style scoped>\n",
       "    .dataframe tbody tr th:only-of-type {\n",
       "        vertical-align: middle;\n",
       "    }\n",
       "\n",
       "    .dataframe tbody tr th {\n",
       "        vertical-align: top;\n",
       "    }\n",
       "\n",
       "    .dataframe thead th {\n",
       "        text-align: right;\n",
       "    }\n",
       "</style>\n",
       "<table border=\"1\" class=\"dataframe\">\n",
       "  <thead>\n",
       "    <tr style=\"text-align: right;\">\n",
       "      <th></th>\n",
       "      <th>GENDER</th>\n",
       "      <th>Car_Owner</th>\n",
       "      <th>Propert_Owner</th>\n",
       "      <th>CHILDREN</th>\n",
       "      <th>Annual_income</th>\n",
       "      <th>Type_Income</th>\n",
       "      <th>EDUCATION</th>\n",
       "      <th>Marital_status</th>\n",
       "      <th>Housing_type</th>\n",
       "      <th>Birthday_count</th>\n",
       "      <th>Employed_days</th>\n",
       "      <th>Work_Phone</th>\n",
       "      <th>Phone</th>\n",
       "      <th>EMAIL_ID</th>\n",
       "      <th>Type_Occupation</th>\n",
       "      <th>Family_Members</th>\n",
       "      <th>label</th>\n",
       "    </tr>\n",
       "  </thead>\n",
       "  <tbody>\n",
       "    <tr>\n",
       "      <th>0</th>\n",
       "      <td>1</td>\n",
       "      <td>1</td>\n",
       "      <td>1</td>\n",
       "      <td>0</td>\n",
       "      <td>180000.0</td>\n",
       "      <td>1</td>\n",
       "      <td>1</td>\n",
       "      <td>1</td>\n",
       "      <td>1</td>\n",
       "      <td>-18772.0</td>\n",
       "      <td>365243</td>\n",
       "      <td>0</td>\n",
       "      <td>0</td>\n",
       "      <td>0</td>\n",
       "      <td>NaN</td>\n",
       "      <td>2</td>\n",
       "      <td>1</td>\n",
       "    </tr>\n",
       "    <tr>\n",
       "      <th>1</th>\n",
       "      <td>0</td>\n",
       "      <td>1</td>\n",
       "      <td>0</td>\n",
       "      <td>0</td>\n",
       "      <td>315000.0</td>\n",
       "      <td>0</td>\n",
       "      <td>1</td>\n",
       "      <td>1</td>\n",
       "      <td>1</td>\n",
       "      <td>-13557.0</td>\n",
       "      <td>-586</td>\n",
       "      <td>1</td>\n",
       "      <td>1</td>\n",
       "      <td>0</td>\n",
       "      <td>NaN</td>\n",
       "      <td>2</td>\n",
       "      <td>1</td>\n",
       "    </tr>\n",
       "    <tr>\n",
       "      <th>4</th>\n",
       "      <td>0</td>\n",
       "      <td>1</td>\n",
       "      <td>0</td>\n",
       "      <td>0</td>\n",
       "      <td>315000.0</td>\n",
       "      <td>0</td>\n",
       "      <td>1</td>\n",
       "      <td>1</td>\n",
       "      <td>1</td>\n",
       "      <td>-13557.0</td>\n",
       "      <td>-586</td>\n",
       "      <td>1</td>\n",
       "      <td>1</td>\n",
       "      <td>0</td>\n",
       "      <td>NaN</td>\n",
       "      <td>2</td>\n",
       "      <td>1</td>\n",
       "    </tr>\n",
       "    <tr>\n",
       "      <th>6</th>\n",
       "      <td>0</td>\n",
       "      <td>1</td>\n",
       "      <td>0</td>\n",
       "      <td>0</td>\n",
       "      <td>315000.0</td>\n",
       "      <td>0</td>\n",
       "      <td>1</td>\n",
       "      <td>1</td>\n",
       "      <td>1</td>\n",
       "      <td>-13557.0</td>\n",
       "      <td>-586</td>\n",
       "      <td>1</td>\n",
       "      <td>1</td>\n",
       "      <td>0</td>\n",
       "      <td>NaN</td>\n",
       "      <td>2</td>\n",
       "      <td>1</td>\n",
       "    </tr>\n",
       "    <tr>\n",
       "      <th>7</th>\n",
       "      <td>0</td>\n",
       "      <td>0</td>\n",
       "      <td>0</td>\n",
       "      <td>0</td>\n",
       "      <td>180000.0</td>\n",
       "      <td>1</td>\n",
       "      <td>4</td>\n",
       "      <td>1</td>\n",
       "      <td>1</td>\n",
       "      <td>-22134.0</td>\n",
       "      <td>365243</td>\n",
       "      <td>0</td>\n",
       "      <td>0</td>\n",
       "      <td>0</td>\n",
       "      <td>NaN</td>\n",
       "      <td>2</td>\n",
       "      <td>1</td>\n",
       "    </tr>\n",
       "  </tbody>\n",
       "</table>\n",
       "</div>"
      ],
      "text/plain": [
       "   GENDER  Car_Owner  Propert_Owner  CHILDREN  Annual_income  Type_Income  \\\n",
       "0       1          1              1         0       180000.0            1   \n",
       "1       0          1              0         0       315000.0            0   \n",
       "4       0          1              0         0       315000.0            0   \n",
       "6       0          1              0         0       315000.0            0   \n",
       "7       0          0              0         0       180000.0            1   \n",
       "\n",
       "   EDUCATION  Marital_status  Housing_type  Birthday_count  Employed_days  \\\n",
       "0          1               1             1        -18772.0         365243   \n",
       "1          1               1             1        -13557.0           -586   \n",
       "4          1               1             1        -13557.0           -586   \n",
       "6          1               1             1        -13557.0           -586   \n",
       "7          4               1             1        -22134.0         365243   \n",
       "\n",
       "   Work_Phone  Phone  EMAIL_ID Type_Occupation  Family_Members  label  \n",
       "0           0      0         0             NaN               2      1  \n",
       "1           1      1         0             NaN               2      1  \n",
       "4           1      1         0             NaN               2      1  \n",
       "6           1      1         0             NaN               2      1  \n",
       "7           0      0         0             NaN               2      1  "
      ]
     },
     "execution_count": 531,
     "metadata": {},
     "output_type": "execute_result"
    }
   ],
   "source": [
    "df_fin.head()"
   ]
  },
  {
   "cell_type": "code",
   "execution_count": 532,
   "id": "584d39ec",
   "metadata": {},
   "outputs": [
    {
     "data": {
      "text/plain": [
       "{'Commercial associate': 0, 'Pensioner': 1, 'State servant': 2, 'Working': 3}"
      ]
     },
     "execution_count": 532,
     "metadata": {},
     "output_type": "execute_result"
    }
   ],
   "source": [
    "dict(zip(l_4.classes_,l_4.transform(l_4.classes_)))"
   ]
  },
  {
   "cell_type": "markdown",
   "id": "333d77b9",
   "metadata": {},
   "source": [
    "Apply label transformation"
   ]
  },
  {
   "cell_type": "code",
   "execution_count": 533,
   "id": "b7c88ecd",
   "metadata": {},
   "outputs": [],
   "source": [
    "df_fin[impute_col_encoded]=le.transform(df_fin[impute_col])\n"
   ]
  },
  {
   "cell_type": "code",
   "execution_count": 534,
   "id": "52e2c671",
   "metadata": {},
   "outputs": [
    {
     "data": {
      "text/html": [
       "<div>\n",
       "<style scoped>\n",
       "    .dataframe tbody tr th:only-of-type {\n",
       "        vertical-align: middle;\n",
       "    }\n",
       "\n",
       "    .dataframe tbody tr th {\n",
       "        vertical-align: top;\n",
       "    }\n",
       "\n",
       "    .dataframe thead th {\n",
       "        text-align: right;\n",
       "    }\n",
       "</style>\n",
       "<table border=\"1\" class=\"dataframe\">\n",
       "  <thead>\n",
       "    <tr style=\"text-align: right;\">\n",
       "      <th></th>\n",
       "      <th>Type_Income</th>\n",
       "      <th>Type_Occupation</th>\n",
       "      <th>Type_Occupation_no</th>\n",
       "    </tr>\n",
       "  </thead>\n",
       "  <tbody>\n",
       "    <tr>\n",
       "      <th>0</th>\n",
       "      <td>1</td>\n",
       "      <td>NaN</td>\n",
       "      <td>18</td>\n",
       "    </tr>\n",
       "    <tr>\n",
       "      <th>1</th>\n",
       "      <td>0</td>\n",
       "      <td>NaN</td>\n",
       "      <td>18</td>\n",
       "    </tr>\n",
       "    <tr>\n",
       "      <th>4</th>\n",
       "      <td>0</td>\n",
       "      <td>NaN</td>\n",
       "      <td>18</td>\n",
       "    </tr>\n",
       "    <tr>\n",
       "      <th>6</th>\n",
       "      <td>0</td>\n",
       "      <td>NaN</td>\n",
       "      <td>18</td>\n",
       "    </tr>\n",
       "    <tr>\n",
       "      <th>7</th>\n",
       "      <td>1</td>\n",
       "      <td>NaN</td>\n",
       "      <td>18</td>\n",
       "    </tr>\n",
       "    <tr>\n",
       "      <th>8</th>\n",
       "      <td>0</td>\n",
       "      <td>Core staff</td>\n",
       "      <td>3</td>\n",
       "    </tr>\n",
       "    <tr>\n",
       "      <th>9</th>\n",
       "      <td>1</td>\n",
       "      <td>Core staff</td>\n",
       "      <td>3</td>\n",
       "    </tr>\n",
       "  </tbody>\n",
       "</table>\n",
       "</div>"
      ],
      "text/plain": [
       "   Type_Income Type_Occupation  Type_Occupation_no\n",
       "0            1             NaN                  18\n",
       "1            0             NaN                  18\n",
       "4            0             NaN                  18\n",
       "6            0             NaN                  18\n",
       "7            1             NaN                  18\n",
       "8            0      Core staff                   3\n",
       "9            1      Core staff                   3"
      ]
     },
     "execution_count": 534,
     "metadata": {},
     "output_type": "execute_result"
    }
   ],
   "source": [
    "df_fin[['Type_Income','Type_Occupation','Type_Occupation_no']].head(7)"
   ]
  },
  {
   "cell_type": "markdown",
   "id": "3850ad77",
   "metadata": {},
   "source": [
    "Make the Nan number equivalent to Nan again "
   ]
  },
  {
   "cell_type": "code",
   "execution_count": 536,
   "id": "f5901de4",
   "metadata": {},
   "outputs": [
    {
     "data": {
      "text/html": [
       "<div>\n",
       "<style scoped>\n",
       "    .dataframe tbody tr th:only-of-type {\n",
       "        vertical-align: middle;\n",
       "    }\n",
       "\n",
       "    .dataframe tbody tr th {\n",
       "        vertical-align: top;\n",
       "    }\n",
       "\n",
       "    .dataframe thead th {\n",
       "        text-align: right;\n",
       "    }\n",
       "</style>\n",
       "<table border=\"1\" class=\"dataframe\">\n",
       "  <thead>\n",
       "    <tr style=\"text-align: right;\">\n",
       "      <th></th>\n",
       "      <th>GENDER</th>\n",
       "      <th>Car_Owner</th>\n",
       "      <th>Propert_Owner</th>\n",
       "      <th>CHILDREN</th>\n",
       "      <th>Annual_income</th>\n",
       "      <th>Type_Income</th>\n",
       "      <th>EDUCATION</th>\n",
       "      <th>Marital_status</th>\n",
       "      <th>Housing_type</th>\n",
       "      <th>Birthday_count</th>\n",
       "      <th>Employed_days</th>\n",
       "      <th>Work_Phone</th>\n",
       "      <th>Phone</th>\n",
       "      <th>EMAIL_ID</th>\n",
       "      <th>Type_Occupation</th>\n",
       "      <th>Family_Members</th>\n",
       "      <th>label</th>\n",
       "      <th>Type_Occupation_no</th>\n",
       "    </tr>\n",
       "  </thead>\n",
       "  <tbody>\n",
       "    <tr>\n",
       "      <th>0</th>\n",
       "      <td>1</td>\n",
       "      <td>1</td>\n",
       "      <td>1</td>\n",
       "      <td>0</td>\n",
       "      <td>180000.0</td>\n",
       "      <td>1</td>\n",
       "      <td>1</td>\n",
       "      <td>1</td>\n",
       "      <td>1</td>\n",
       "      <td>-18772.0</td>\n",
       "      <td>365243</td>\n",
       "      <td>0</td>\n",
       "      <td>0</td>\n",
       "      <td>0</td>\n",
       "      <td>NaN</td>\n",
       "      <td>2</td>\n",
       "      <td>1</td>\n",
       "      <td>NaN</td>\n",
       "    </tr>\n",
       "    <tr>\n",
       "      <th>1</th>\n",
       "      <td>0</td>\n",
       "      <td>1</td>\n",
       "      <td>0</td>\n",
       "      <td>0</td>\n",
       "      <td>315000.0</td>\n",
       "      <td>0</td>\n",
       "      <td>1</td>\n",
       "      <td>1</td>\n",
       "      <td>1</td>\n",
       "      <td>-13557.0</td>\n",
       "      <td>-586</td>\n",
       "      <td>1</td>\n",
       "      <td>1</td>\n",
       "      <td>0</td>\n",
       "      <td>NaN</td>\n",
       "      <td>2</td>\n",
       "      <td>1</td>\n",
       "      <td>NaN</td>\n",
       "    </tr>\n",
       "    <tr>\n",
       "      <th>4</th>\n",
       "      <td>0</td>\n",
       "      <td>1</td>\n",
       "      <td>0</td>\n",
       "      <td>0</td>\n",
       "      <td>315000.0</td>\n",
       "      <td>0</td>\n",
       "      <td>1</td>\n",
       "      <td>1</td>\n",
       "      <td>1</td>\n",
       "      <td>-13557.0</td>\n",
       "      <td>-586</td>\n",
       "      <td>1</td>\n",
       "      <td>1</td>\n",
       "      <td>0</td>\n",
       "      <td>NaN</td>\n",
       "      <td>2</td>\n",
       "      <td>1</td>\n",
       "      <td>NaN</td>\n",
       "    </tr>\n",
       "    <tr>\n",
       "      <th>6</th>\n",
       "      <td>0</td>\n",
       "      <td>1</td>\n",
       "      <td>0</td>\n",
       "      <td>0</td>\n",
       "      <td>315000.0</td>\n",
       "      <td>0</td>\n",
       "      <td>1</td>\n",
       "      <td>1</td>\n",
       "      <td>1</td>\n",
       "      <td>-13557.0</td>\n",
       "      <td>-586</td>\n",
       "      <td>1</td>\n",
       "      <td>1</td>\n",
       "      <td>0</td>\n",
       "      <td>NaN</td>\n",
       "      <td>2</td>\n",
       "      <td>1</td>\n",
       "      <td>NaN</td>\n",
       "    </tr>\n",
       "    <tr>\n",
       "      <th>7</th>\n",
       "      <td>0</td>\n",
       "      <td>0</td>\n",
       "      <td>0</td>\n",
       "      <td>0</td>\n",
       "      <td>180000.0</td>\n",
       "      <td>1</td>\n",
       "      <td>4</td>\n",
       "      <td>1</td>\n",
       "      <td>1</td>\n",
       "      <td>-22134.0</td>\n",
       "      <td>365243</td>\n",
       "      <td>0</td>\n",
       "      <td>0</td>\n",
       "      <td>0</td>\n",
       "      <td>NaN</td>\n",
       "      <td>2</td>\n",
       "      <td>1</td>\n",
       "      <td>NaN</td>\n",
       "    </tr>\n",
       "    <tr>\n",
       "      <th>8</th>\n",
       "      <td>1</td>\n",
       "      <td>1</td>\n",
       "      <td>1</td>\n",
       "      <td>1</td>\n",
       "      <td>450000.0</td>\n",
       "      <td>0</td>\n",
       "      <td>4</td>\n",
       "      <td>1</td>\n",
       "      <td>1</td>\n",
       "      <td>-18173.0</td>\n",
       "      <td>-678</td>\n",
       "      <td>0</td>\n",
       "      <td>1</td>\n",
       "      <td>1</td>\n",
       "      <td>Core staff</td>\n",
       "      <td>3</td>\n",
       "      <td>1</td>\n",
       "      <td>3.0</td>\n",
       "    </tr>\n",
       "    <tr>\n",
       "      <th>9</th>\n",
       "      <td>1</td>\n",
       "      <td>1</td>\n",
       "      <td>1</td>\n",
       "      <td>1</td>\n",
       "      <td>450000.0</td>\n",
       "      <td>1</td>\n",
       "      <td>4</td>\n",
       "      <td>1</td>\n",
       "      <td>1</td>\n",
       "      <td>-18173.0</td>\n",
       "      <td>-678</td>\n",
       "      <td>0</td>\n",
       "      <td>1</td>\n",
       "      <td>1</td>\n",
       "      <td>Core staff</td>\n",
       "      <td>3</td>\n",
       "      <td>1</td>\n",
       "      <td>3.0</td>\n",
       "    </tr>\n",
       "  </tbody>\n",
       "</table>\n",
       "</div>"
      ],
      "text/plain": [
       "   GENDER  Car_Owner  Propert_Owner  CHILDREN  Annual_income  Type_Income  \\\n",
       "0       1          1              1         0       180000.0            1   \n",
       "1       0          1              0         0       315000.0            0   \n",
       "4       0          1              0         0       315000.0            0   \n",
       "6       0          1              0         0       315000.0            0   \n",
       "7       0          0              0         0       180000.0            1   \n",
       "8       1          1              1         1       450000.0            0   \n",
       "9       1          1              1         1       450000.0            1   \n",
       "\n",
       "   EDUCATION  Marital_status  Housing_type  Birthday_count  Employed_days  \\\n",
       "0          1               1             1        -18772.0         365243   \n",
       "1          1               1             1        -13557.0           -586   \n",
       "4          1               1             1        -13557.0           -586   \n",
       "6          1               1             1        -13557.0           -586   \n",
       "7          4               1             1        -22134.0         365243   \n",
       "8          4               1             1        -18173.0           -678   \n",
       "9          4               1             1        -18173.0           -678   \n",
       "\n",
       "   Work_Phone  Phone  EMAIL_ID Type_Occupation  Family_Members  label  \\\n",
       "0           0      0         0             NaN               2      1   \n",
       "1           1      1         0             NaN               2      1   \n",
       "4           1      1         0             NaN               2      1   \n",
       "6           1      1         0             NaN               2      1   \n",
       "7           0      0         0             NaN               2      1   \n",
       "8           0      1         1      Core staff               3      1   \n",
       "9           0      1         1      Core staff               3      1   \n",
       "\n",
       "   Type_Occupation_no  \n",
       "0                 NaN  \n",
       "1                 NaN  \n",
       "4                 NaN  \n",
       "6                 NaN  \n",
       "7                 NaN  \n",
       "8                 3.0  \n",
       "9                 3.0  "
      ]
     },
     "execution_count": 536,
     "metadata": {},
     "output_type": "execute_result"
    }
   ],
   "source": [
    "\n",
    "df_fin[impute_col_encoded]=df_fin[impute_col_encoded].map(lambda x:np.nan if x==18 else x)\n",
    "df_fin.head(7)"
   ]
  },
  {
   "cell_type": "code",
   "execution_count": 537,
   "id": "f5d46778",
   "metadata": {},
   "outputs": [],
   "source": [
    "imputer=IterativeImputer(random_state=100)"
   ]
  },
  {
   "cell_type": "code",
   "execution_count": 538,
   "id": "0107b4b1",
   "metadata": {},
   "outputs": [
    {
     "data": {
      "text/html": [
       "<div>\n",
       "<style scoped>\n",
       "    .dataframe tbody tr th:only-of-type {\n",
       "        vertical-align: middle;\n",
       "    }\n",
       "\n",
       "    .dataframe tbody tr th {\n",
       "        vertical-align: top;\n",
       "    }\n",
       "\n",
       "    .dataframe thead th {\n",
       "        text-align: right;\n",
       "    }\n",
       "</style>\n",
       "<table border=\"1\" class=\"dataframe\">\n",
       "  <thead>\n",
       "    <tr style=\"text-align: right;\">\n",
       "      <th></th>\n",
       "      <th>Annual_income</th>\n",
       "      <th>Type_Income</th>\n",
       "      <th>EDUCATION</th>\n",
       "      <th>Housing_type</th>\n",
       "      <th>Type_Occupation_no</th>\n",
       "    </tr>\n",
       "  </thead>\n",
       "  <tbody>\n",
       "    <tr>\n",
       "      <th>0</th>\n",
       "      <td>180000.0</td>\n",
       "      <td>1</td>\n",
       "      <td>1</td>\n",
       "      <td>1</td>\n",
       "      <td>NaN</td>\n",
       "    </tr>\n",
       "    <tr>\n",
       "      <th>1</th>\n",
       "      <td>315000.0</td>\n",
       "      <td>0</td>\n",
       "      <td>1</td>\n",
       "      <td>1</td>\n",
       "      <td>NaN</td>\n",
       "    </tr>\n",
       "    <tr>\n",
       "      <th>4</th>\n",
       "      <td>315000.0</td>\n",
       "      <td>0</td>\n",
       "      <td>1</td>\n",
       "      <td>1</td>\n",
       "      <td>NaN</td>\n",
       "    </tr>\n",
       "    <tr>\n",
       "      <th>6</th>\n",
       "      <td>315000.0</td>\n",
       "      <td>0</td>\n",
       "      <td>1</td>\n",
       "      <td>1</td>\n",
       "      <td>NaN</td>\n",
       "    </tr>\n",
       "    <tr>\n",
       "      <th>7</th>\n",
       "      <td>180000.0</td>\n",
       "      <td>1</td>\n",
       "      <td>4</td>\n",
       "      <td>1</td>\n",
       "      <td>NaN</td>\n",
       "    </tr>\n",
       "    <tr>\n",
       "      <th>8</th>\n",
       "      <td>450000.0</td>\n",
       "      <td>0</td>\n",
       "      <td>4</td>\n",
       "      <td>1</td>\n",
       "      <td>3.0</td>\n",
       "    </tr>\n",
       "    <tr>\n",
       "      <th>9</th>\n",
       "      <td>450000.0</td>\n",
       "      <td>1</td>\n",
       "      <td>4</td>\n",
       "      <td>1</td>\n",
       "      <td>3.0</td>\n",
       "    </tr>\n",
       "  </tbody>\n",
       "</table>\n",
       "</div>"
      ],
      "text/plain": [
       "   Annual_income  Type_Income  EDUCATION  Housing_type  Type_Occupation_no\n",
       "0       180000.0            1          1             1                 NaN\n",
       "1       315000.0            0          1             1                 NaN\n",
       "4       315000.0            0          1             1                 NaN\n",
       "6       315000.0            0          1             1                 NaN\n",
       "7       180000.0            1          4             1                 NaN\n",
       "8       450000.0            0          4             1                 3.0\n",
       "9       450000.0            1          4             1                 3.0"
      ]
     },
     "execution_count": 538,
     "metadata": {},
     "output_type": "execute_result"
    }
   ],
   "source": [
    "df_train=df_fin.loc[:,['Annual_income','Type_Income','EDUCATION','Housing_type','Type_Occupation_no']]\n",
    "df_train.head(7)"
   ]
  },
  {
   "cell_type": "code",
   "execution_count": 539,
   "id": "db0ae7cf",
   "metadata": {},
   "outputs": [
    {
     "data": {
      "text/html": [
       "<style>#sk-container-id-13 {color: black;}#sk-container-id-13 pre{padding: 0;}#sk-container-id-13 div.sk-toggleable {background-color: white;}#sk-container-id-13 label.sk-toggleable__label {cursor: pointer;display: block;width: 100%;margin-bottom: 0;padding: 0.3em;box-sizing: border-box;text-align: center;}#sk-container-id-13 label.sk-toggleable__label-arrow:before {content: \"▸\";float: left;margin-right: 0.25em;color: #696969;}#sk-container-id-13 label.sk-toggleable__label-arrow:hover:before {color: black;}#sk-container-id-13 div.sk-estimator:hover label.sk-toggleable__label-arrow:before {color: black;}#sk-container-id-13 div.sk-toggleable__content {max-height: 0;max-width: 0;overflow: hidden;text-align: left;background-color: #f0f8ff;}#sk-container-id-13 div.sk-toggleable__content pre {margin: 0.2em;color: black;border-radius: 0.25em;background-color: #f0f8ff;}#sk-container-id-13 input.sk-toggleable__control:checked~div.sk-toggleable__content {max-height: 200px;max-width: 100%;overflow: auto;}#sk-container-id-13 input.sk-toggleable__control:checked~label.sk-toggleable__label-arrow:before {content: \"▾\";}#sk-container-id-13 div.sk-estimator input.sk-toggleable__control:checked~label.sk-toggleable__label {background-color: #d4ebff;}#sk-container-id-13 div.sk-label input.sk-toggleable__control:checked~label.sk-toggleable__label {background-color: #d4ebff;}#sk-container-id-13 input.sk-hidden--visually {border: 0;clip: rect(1px 1px 1px 1px);clip: rect(1px, 1px, 1px, 1px);height: 1px;margin: -1px;overflow: hidden;padding: 0;position: absolute;width: 1px;}#sk-container-id-13 div.sk-estimator {font-family: monospace;background-color: #f0f8ff;border: 1px dotted black;border-radius: 0.25em;box-sizing: border-box;margin-bottom: 0.5em;}#sk-container-id-13 div.sk-estimator:hover {background-color: #d4ebff;}#sk-container-id-13 div.sk-parallel-item::after {content: \"\";width: 100%;border-bottom: 1px solid gray;flex-grow: 1;}#sk-container-id-13 div.sk-label:hover label.sk-toggleable__label {background-color: #d4ebff;}#sk-container-id-13 div.sk-serial::before {content: \"\";position: absolute;border-left: 1px solid gray;box-sizing: border-box;top: 0;bottom: 0;left: 50%;z-index: 0;}#sk-container-id-13 div.sk-serial {display: flex;flex-direction: column;align-items: center;background-color: white;padding-right: 0.2em;padding-left: 0.2em;position: relative;}#sk-container-id-13 div.sk-item {position: relative;z-index: 1;}#sk-container-id-13 div.sk-parallel {display: flex;align-items: stretch;justify-content: center;background-color: white;position: relative;}#sk-container-id-13 div.sk-item::before, #sk-container-id-13 div.sk-parallel-item::before {content: \"\";position: absolute;border-left: 1px solid gray;box-sizing: border-box;top: 0;bottom: 0;left: 50%;z-index: -1;}#sk-container-id-13 div.sk-parallel-item {display: flex;flex-direction: column;z-index: 1;position: relative;background-color: white;}#sk-container-id-13 div.sk-parallel-item:first-child::after {align-self: flex-end;width: 50%;}#sk-container-id-13 div.sk-parallel-item:last-child::after {align-self: flex-start;width: 50%;}#sk-container-id-13 div.sk-parallel-item:only-child::after {width: 0;}#sk-container-id-13 div.sk-dashed-wrapped {border: 1px dashed gray;margin: 0 0.4em 0.5em 0.4em;box-sizing: border-box;padding-bottom: 0.4em;background-color: white;}#sk-container-id-13 div.sk-label label {font-family: monospace;font-weight: bold;display: inline-block;line-height: 1.2em;}#sk-container-id-13 div.sk-label-container {text-align: center;}#sk-container-id-13 div.sk-container {/* jupyter's `normalize.less` sets `[hidden] { display: none; }` but bootstrap.min.css set `[hidden] { display: none !important; }` so we also need the `!important` here to be able to override the default hidden behavior on the sphinx rendered scikit-learn.org. See: https://github.com/scikit-learn/scikit-learn/issues/21755 */display: inline-block !important;position: relative;}#sk-container-id-13 div.sk-text-repr-fallback {display: none;}</style><div id=\"sk-container-id-13\" class=\"sk-top-container\"><div class=\"sk-text-repr-fallback\"><pre>IterativeImputer(random_state=100)</pre><b>In a Jupyter environment, please rerun this cell to show the HTML representation or trust the notebook. <br />On GitHub, the HTML representation is unable to render, please try loading this page with nbviewer.org.</b></div><div class=\"sk-container\" hidden><div class=\"sk-item\"><div class=\"sk-estimator sk-toggleable\"><input class=\"sk-toggleable__control sk-hidden--visually\" id=\"sk-estimator-id-13\" type=\"checkbox\" checked><label for=\"sk-estimator-id-13\" class=\"sk-toggleable__label sk-toggleable__label-arrow\">IterativeImputer</label><div class=\"sk-toggleable__content\"><pre>IterativeImputer(random_state=100)</pre></div></div></div></div></div>"
      ],
      "text/plain": [
       "IterativeImputer(random_state=100)"
      ]
     },
     "execution_count": 539,
     "metadata": {},
     "output_type": "execute_result"
    }
   ],
   "source": [
    "imputer.fit(df_train)"
   ]
  },
  {
   "cell_type": "code",
   "execution_count": 540,
   "id": "7f866c56",
   "metadata": {},
   "outputs": [
    {
     "data": {
      "text/plain": [
       "array([[1.80000000e+05, 1.00000000e+00, 1.00000000e+00, 1.00000000e+00,\n",
       "        7.56950609e+00],\n",
       "       [3.15000000e+05, 0.00000000e+00, 1.00000000e+00, 1.00000000e+00,\n",
       "        7.74173061e+00],\n",
       "       [3.15000000e+05, 0.00000000e+00, 1.00000000e+00, 1.00000000e+00,\n",
       "        7.74173061e+00],\n",
       "       [3.15000000e+05, 0.00000000e+00, 1.00000000e+00, 1.00000000e+00,\n",
       "        7.74173061e+00],\n",
       "       [1.80000000e+05, 1.00000000e+00, 4.00000000e+00, 1.00000000e+00,\n",
       "        7.82061538e+00],\n",
       "       [4.50000000e+05, 0.00000000e+00, 4.00000000e+00, 1.00000000e+00,\n",
       "        3.00000000e+00],\n",
       "       [4.50000000e+05, 1.00000000e+00, 4.00000000e+00, 1.00000000e+00,\n",
       "        3.00000000e+00],\n",
       "       [4.50000000e+05, 0.00000000e+00, 4.00000000e+00, 1.00000000e+00,\n",
       "        3.00000000e+00],\n",
       "       [9.00000000e+04, 3.00000000e+00, 4.00000000e+00, 1.00000000e+00,\n",
       "        2.00000000e+00],\n",
       "       [9.00000000e+04, 3.00000000e+00, 4.00000000e+00, 1.00000000e+00,\n",
       "        2.00000000e+00]])"
      ]
     },
     "execution_count": 540,
     "metadata": {},
     "output_type": "execute_result"
    }
   ],
   "source": [
    "df_imputed=imputer.transform(df_train)\n",
    "df_imputed[:10]"
   ]
  },
  {
   "cell_type": "code",
   "execution_count": 541,
   "id": "fc9b2f2e",
   "metadata": {},
   "outputs": [
    {
     "data": {
      "text/plain": [
       "array([1., 0., 0., ..., 3., 3., 3.])"
      ]
     },
     "execution_count": 541,
     "metadata": {},
     "output_type": "execute_result"
    }
   ],
   "source": [
    "df_imputed[:,1].round()"
   ]
  },
  {
   "cell_type": "code",
   "execution_count": 542,
   "id": "dff2c89e",
   "metadata": {},
   "outputs": [
    {
     "data": {
      "text/html": [
       "<div>\n",
       "<style scoped>\n",
       "    .dataframe tbody tr th:only-of-type {\n",
       "        vertical-align: middle;\n",
       "    }\n",
       "\n",
       "    .dataframe tbody tr th {\n",
       "        vertical-align: top;\n",
       "    }\n",
       "\n",
       "    .dataframe thead th {\n",
       "        text-align: right;\n",
       "    }\n",
       "</style>\n",
       "<table border=\"1\" class=\"dataframe\">\n",
       "  <thead>\n",
       "    <tr style=\"text-align: right;\">\n",
       "      <th></th>\n",
       "      <th>GENDER</th>\n",
       "      <th>Car_Owner</th>\n",
       "      <th>Propert_Owner</th>\n",
       "      <th>CHILDREN</th>\n",
       "      <th>Annual_income</th>\n",
       "      <th>Type_Income</th>\n",
       "      <th>EDUCATION</th>\n",
       "      <th>Marital_status</th>\n",
       "      <th>Housing_type</th>\n",
       "      <th>Birthday_count</th>\n",
       "      <th>Employed_days</th>\n",
       "      <th>Work_Phone</th>\n",
       "      <th>Phone</th>\n",
       "      <th>EMAIL_ID</th>\n",
       "      <th>Type_Occupation</th>\n",
       "      <th>Family_Members</th>\n",
       "      <th>label</th>\n",
       "      <th>Type_Occupation_no</th>\n",
       "    </tr>\n",
       "  </thead>\n",
       "  <tbody>\n",
       "    <tr>\n",
       "      <th>0</th>\n",
       "      <td>1</td>\n",
       "      <td>1</td>\n",
       "      <td>1</td>\n",
       "      <td>0</td>\n",
       "      <td>180000.0</td>\n",
       "      <td>1</td>\n",
       "      <td>1</td>\n",
       "      <td>1</td>\n",
       "      <td>1</td>\n",
       "      <td>-18772.0</td>\n",
       "      <td>365243</td>\n",
       "      <td>0</td>\n",
       "      <td>0</td>\n",
       "      <td>0</td>\n",
       "      <td>NaN</td>\n",
       "      <td>2</td>\n",
       "      <td>1</td>\n",
       "      <td>1.0</td>\n",
       "    </tr>\n",
       "    <tr>\n",
       "      <th>1</th>\n",
       "      <td>0</td>\n",
       "      <td>1</td>\n",
       "      <td>0</td>\n",
       "      <td>0</td>\n",
       "      <td>315000.0</td>\n",
       "      <td>0</td>\n",
       "      <td>1</td>\n",
       "      <td>1</td>\n",
       "      <td>1</td>\n",
       "      <td>-13557.0</td>\n",
       "      <td>-586</td>\n",
       "      <td>1</td>\n",
       "      <td>1</td>\n",
       "      <td>0</td>\n",
       "      <td>NaN</td>\n",
       "      <td>2</td>\n",
       "      <td>1</td>\n",
       "      <td>0.0</td>\n",
       "    </tr>\n",
       "    <tr>\n",
       "      <th>4</th>\n",
       "      <td>0</td>\n",
       "      <td>1</td>\n",
       "      <td>0</td>\n",
       "      <td>0</td>\n",
       "      <td>315000.0</td>\n",
       "      <td>0</td>\n",
       "      <td>1</td>\n",
       "      <td>1</td>\n",
       "      <td>1</td>\n",
       "      <td>-13557.0</td>\n",
       "      <td>-586</td>\n",
       "      <td>1</td>\n",
       "      <td>1</td>\n",
       "      <td>0</td>\n",
       "      <td>NaN</td>\n",
       "      <td>2</td>\n",
       "      <td>1</td>\n",
       "      <td>0.0</td>\n",
       "    </tr>\n",
       "    <tr>\n",
       "      <th>6</th>\n",
       "      <td>0</td>\n",
       "      <td>1</td>\n",
       "      <td>0</td>\n",
       "      <td>0</td>\n",
       "      <td>315000.0</td>\n",
       "      <td>0</td>\n",
       "      <td>1</td>\n",
       "      <td>1</td>\n",
       "      <td>1</td>\n",
       "      <td>-13557.0</td>\n",
       "      <td>-586</td>\n",
       "      <td>1</td>\n",
       "      <td>1</td>\n",
       "      <td>0</td>\n",
       "      <td>NaN</td>\n",
       "      <td>2</td>\n",
       "      <td>1</td>\n",
       "      <td>0.0</td>\n",
       "    </tr>\n",
       "    <tr>\n",
       "      <th>7</th>\n",
       "      <td>0</td>\n",
       "      <td>0</td>\n",
       "      <td>0</td>\n",
       "      <td>0</td>\n",
       "      <td>180000.0</td>\n",
       "      <td>1</td>\n",
       "      <td>4</td>\n",
       "      <td>1</td>\n",
       "      <td>1</td>\n",
       "      <td>-22134.0</td>\n",
       "      <td>365243</td>\n",
       "      <td>0</td>\n",
       "      <td>0</td>\n",
       "      <td>0</td>\n",
       "      <td>NaN</td>\n",
       "      <td>2</td>\n",
       "      <td>1</td>\n",
       "      <td>1.0</td>\n",
       "    </tr>\n",
       "  </tbody>\n",
       "</table>\n",
       "</div>"
      ],
      "text/plain": [
       "   GENDER  Car_Owner  Propert_Owner  CHILDREN  Annual_income  Type_Income  \\\n",
       "0       1          1              1         0       180000.0            1   \n",
       "1       0          1              0         0       315000.0            0   \n",
       "4       0          1              0         0       315000.0            0   \n",
       "6       0          1              0         0       315000.0            0   \n",
       "7       0          0              0         0       180000.0            1   \n",
       "\n",
       "   EDUCATION  Marital_status  Housing_type  Birthday_count  Employed_days  \\\n",
       "0          1               1             1        -18772.0         365243   \n",
       "1          1               1             1        -13557.0           -586   \n",
       "4          1               1             1        -13557.0           -586   \n",
       "6          1               1             1        -13557.0           -586   \n",
       "7          4               1             1        -22134.0         365243   \n",
       "\n",
       "   Work_Phone  Phone  EMAIL_ID Type_Occupation  Family_Members  label  \\\n",
       "0           0      0         0             NaN               2      1   \n",
       "1           1      1         0             NaN               2      1   \n",
       "4           1      1         0             NaN               2      1   \n",
       "6           1      1         0             NaN               2      1   \n",
       "7           0      0         0             NaN               2      1   \n",
       "\n",
       "   Type_Occupation_no  \n",
       "0                 1.0  \n",
       "1                 0.0  \n",
       "4                 0.0  \n",
       "6                 0.0  \n",
       "7                 1.0  "
      ]
     },
     "execution_count": 542,
     "metadata": {},
     "output_type": "execute_result"
    }
   ],
   "source": [
    "df_fin.loc[:,[impute_col_encoded]]=df_imputed[:,1].round()\n",
    "df_fin.head()"
   ]
  },
  {
   "cell_type": "code",
   "execution_count": 543,
   "id": "1d947173",
   "metadata": {},
   "outputs": [
    {
     "data": {
      "text/plain": [
       "['Cleaning staff',\n",
       " 'Accountants',\n",
       " 'Accountants',\n",
       " 'Accountants',\n",
       " 'Cleaning staff',\n",
       " 'Accountants',\n",
       " 'Cleaning staff',\n",
       " 'Accountants',\n",
       " 'Core staff',\n",
       " 'Core staff']"
      ]
     },
     "execution_count": 543,
     "metadata": {},
     "output_type": "execute_result"
    }
   ],
   "source": [
    "Type_occupation_imputed=list(le.inverse_transform(df_fin[impute_col_encoded].round().astype('int')))\n",
    "Type_occupation_imputed[:10]"
   ]
  },
  {
   "cell_type": "code",
   "execution_count": 544,
   "id": "f9914b91",
   "metadata": {},
   "outputs": [],
   "source": [
    "df_fin['Type_occupation_imputed']=Type_occupation_imputed\n"
   ]
  },
  {
   "cell_type": "code",
   "execution_count": 545,
   "id": "13ae7a31",
   "metadata": {},
   "outputs": [
    {
     "data": {
      "text/plain": [
       "GENDER                      0.000000\n",
       "Car_Owner                   0.000000\n",
       "Propert_Owner               0.000000\n",
       "CHILDREN                    0.000000\n",
       "Annual_income               0.000000\n",
       "Type_Income                 0.000000\n",
       "EDUCATION                   0.000000\n",
       "Marital_status              0.000000\n",
       "Housing_type                0.000000\n",
       "Birthday_count              0.000000\n",
       "Employed_days               0.000000\n",
       "Work_Phone                  0.000000\n",
       "Phone                       0.000000\n",
       "EMAIL_ID                    0.000000\n",
       "Type_Occupation            31.483957\n",
       "Family_Members              0.000000\n",
       "label                       0.000000\n",
       "Type_Occupation_no          0.000000\n",
       "Type_occupation_imputed     0.000000\n",
       "dtype: float64"
      ]
     },
     "execution_count": 545,
     "metadata": {},
     "output_type": "execute_result"
    }
   ],
   "source": [
    "df_fin.isnull().mean()*100"
   ]
  },
  {
   "cell_type": "markdown",
   "id": "c6b9caf3",
   "metadata": {},
   "source": [
    "Now that we have treated the missing values,let us split the dataframe into a training and test data using scikitlearn"
   ]
  },
  {
   "cell_type": "code",
   "execution_count": 546,
   "id": "f170a3b6",
   "metadata": {},
   "outputs": [],
   "source": [
    "from sklearn.model_selection import train_test_split"
   ]
  },
  {
   "cell_type": "code",
   "execution_count": 547,
   "id": "6de4c275",
   "metadata": {},
   "outputs": [],
   "source": [
    "x_train,x_test,y_train,y_test=train_test_split(df_fin.drop(columns=['Type_Occupation','Type_occupation_imputed','label']),df_fin['label'],test_size=0.2)"
   ]
  },
  {
   "cell_type": "code",
   "execution_count": 548,
   "id": "3a12fb78",
   "metadata": {},
   "outputs": [
    {
     "data": {
      "text/html": [
       "<div>\n",
       "<style scoped>\n",
       "    .dataframe tbody tr th:only-of-type {\n",
       "        vertical-align: middle;\n",
       "    }\n",
       "\n",
       "    .dataframe tbody tr th {\n",
       "        vertical-align: top;\n",
       "    }\n",
       "\n",
       "    .dataframe thead th {\n",
       "        text-align: right;\n",
       "    }\n",
       "</style>\n",
       "<table border=\"1\" class=\"dataframe\">\n",
       "  <thead>\n",
       "    <tr style=\"text-align: right;\">\n",
       "      <th></th>\n",
       "      <th>GENDER</th>\n",
       "      <th>Car_Owner</th>\n",
       "      <th>Propert_Owner</th>\n",
       "      <th>CHILDREN</th>\n",
       "      <th>Annual_income</th>\n",
       "      <th>Type_Income</th>\n",
       "      <th>EDUCATION</th>\n",
       "      <th>Marital_status</th>\n",
       "      <th>Housing_type</th>\n",
       "      <th>Birthday_count</th>\n",
       "      <th>Employed_days</th>\n",
       "      <th>Work_Phone</th>\n",
       "      <th>Phone</th>\n",
       "      <th>EMAIL_ID</th>\n",
       "      <th>Family_Members</th>\n",
       "      <th>Type_Occupation_no</th>\n",
       "    </tr>\n",
       "  </thead>\n",
       "  <tbody>\n",
       "    <tr>\n",
       "      <th>1459</th>\n",
       "      <td>0</td>\n",
       "      <td>0</td>\n",
       "      <td>1</td>\n",
       "      <td>0</td>\n",
       "      <td>171000.0</td>\n",
       "      <td>3</td>\n",
       "      <td>1</td>\n",
       "      <td>1</td>\n",
       "      <td>1</td>\n",
       "      <td>-18348.0</td>\n",
       "      <td>-3853</td>\n",
       "      <td>0</td>\n",
       "      <td>0</td>\n",
       "      <td>0</td>\n",
       "      <td>2</td>\n",
       "      <td>3.0</td>\n",
       "    </tr>\n",
       "    <tr>\n",
       "      <th>792</th>\n",
       "      <td>0</td>\n",
       "      <td>1</td>\n",
       "      <td>1</td>\n",
       "      <td>0</td>\n",
       "      <td>112500.0</td>\n",
       "      <td>3</td>\n",
       "      <td>1</td>\n",
       "      <td>1</td>\n",
       "      <td>1</td>\n",
       "      <td>-10101.0</td>\n",
       "      <td>-505</td>\n",
       "      <td>1</td>\n",
       "      <td>1</td>\n",
       "      <td>0</td>\n",
       "      <td>2</td>\n",
       "      <td>3.0</td>\n",
       "    </tr>\n",
       "    <tr>\n",
       "      <th>837</th>\n",
       "      <td>0</td>\n",
       "      <td>1</td>\n",
       "      <td>1</td>\n",
       "      <td>1</td>\n",
       "      <td>135000.0</td>\n",
       "      <td>0</td>\n",
       "      <td>1</td>\n",
       "      <td>1</td>\n",
       "      <td>1</td>\n",
       "      <td>-11278.0</td>\n",
       "      <td>-2481</td>\n",
       "      <td>0</td>\n",
       "      <td>0</td>\n",
       "      <td>0</td>\n",
       "      <td>3</td>\n",
       "      <td>0.0</td>\n",
       "    </tr>\n",
       "    <tr>\n",
       "      <th>395</th>\n",
       "      <td>1</td>\n",
       "      <td>1</td>\n",
       "      <td>1</td>\n",
       "      <td>1</td>\n",
       "      <td>112500.0</td>\n",
       "      <td>3</td>\n",
       "      <td>4</td>\n",
       "      <td>1</td>\n",
       "      <td>1</td>\n",
       "      <td>-11279.0</td>\n",
       "      <td>-508</td>\n",
       "      <td>0</td>\n",
       "      <td>0</td>\n",
       "      <td>0</td>\n",
       "      <td>3</td>\n",
       "      <td>3.0</td>\n",
       "    </tr>\n",
       "    <tr>\n",
       "      <th>1466</th>\n",
       "      <td>1</td>\n",
       "      <td>0</td>\n",
       "      <td>1</td>\n",
       "      <td>1</td>\n",
       "      <td>202500.0</td>\n",
       "      <td>0</td>\n",
       "      <td>4</td>\n",
       "      <td>1</td>\n",
       "      <td>1</td>\n",
       "      <td>-14952.0</td>\n",
       "      <td>-104</td>\n",
       "      <td>0</td>\n",
       "      <td>1</td>\n",
       "      <td>0</td>\n",
       "      <td>3</td>\n",
       "      <td>0.0</td>\n",
       "    </tr>\n",
       "    <tr>\n",
       "      <th>...</th>\n",
       "      <td>...</td>\n",
       "      <td>...</td>\n",
       "      <td>...</td>\n",
       "      <td>...</td>\n",
       "      <td>...</td>\n",
       "      <td>...</td>\n",
       "      <td>...</td>\n",
       "      <td>...</td>\n",
       "      <td>...</td>\n",
       "      <td>...</td>\n",
       "      <td>...</td>\n",
       "      <td>...</td>\n",
       "      <td>...</td>\n",
       "      <td>...</td>\n",
       "      <td>...</td>\n",
       "      <td>...</td>\n",
       "    </tr>\n",
       "    <tr>\n",
       "      <th>1485</th>\n",
       "      <td>0</td>\n",
       "      <td>1</td>\n",
       "      <td>1</td>\n",
       "      <td>0</td>\n",
       "      <td>225000.0</td>\n",
       "      <td>1</td>\n",
       "      <td>4</td>\n",
       "      <td>1</td>\n",
       "      <td>1</td>\n",
       "      <td>-22920.0</td>\n",
       "      <td>365243</td>\n",
       "      <td>0</td>\n",
       "      <td>0</td>\n",
       "      <td>0</td>\n",
       "      <td>2</td>\n",
       "      <td>1.0</td>\n",
       "    </tr>\n",
       "    <tr>\n",
       "      <th>1496</th>\n",
       "      <td>1</td>\n",
       "      <td>0</td>\n",
       "      <td>1</td>\n",
       "      <td>0</td>\n",
       "      <td>225000.0</td>\n",
       "      <td>0</td>\n",
       "      <td>4</td>\n",
       "      <td>3</td>\n",
       "      <td>1</td>\n",
       "      <td>-9149.0</td>\n",
       "      <td>-1217</td>\n",
       "      <td>0</td>\n",
       "      <td>0</td>\n",
       "      <td>1</td>\n",
       "      <td>1</td>\n",
       "      <td>0.0</td>\n",
       "    </tr>\n",
       "    <tr>\n",
       "      <th>800</th>\n",
       "      <td>0</td>\n",
       "      <td>1</td>\n",
       "      <td>0</td>\n",
       "      <td>1</td>\n",
       "      <td>315000.0</td>\n",
       "      <td>0</td>\n",
       "      <td>1</td>\n",
       "      <td>1</td>\n",
       "      <td>1</td>\n",
       "      <td>-11025.0</td>\n",
       "      <td>-2065</td>\n",
       "      <td>1</td>\n",
       "      <td>1</td>\n",
       "      <td>1</td>\n",
       "      <td>3</td>\n",
       "      <td>0.0</td>\n",
       "    </tr>\n",
       "    <tr>\n",
       "      <th>1369</th>\n",
       "      <td>0</td>\n",
       "      <td>0</td>\n",
       "      <td>1</td>\n",
       "      <td>1</td>\n",
       "      <td>202500.0</td>\n",
       "      <td>2</td>\n",
       "      <td>4</td>\n",
       "      <td>0</td>\n",
       "      <td>1</td>\n",
       "      <td>-15975.0</td>\n",
       "      <td>-8760</td>\n",
       "      <td>0</td>\n",
       "      <td>0</td>\n",
       "      <td>0</td>\n",
       "      <td>3</td>\n",
       "      <td>2.0</td>\n",
       "    </tr>\n",
       "    <tr>\n",
       "      <th>708</th>\n",
       "      <td>1</td>\n",
       "      <td>1</td>\n",
       "      <td>1</td>\n",
       "      <td>0</td>\n",
       "      <td>112500.0</td>\n",
       "      <td>3</td>\n",
       "      <td>4</td>\n",
       "      <td>1</td>\n",
       "      <td>1</td>\n",
       "      <td>-18293.0</td>\n",
       "      <td>-521</td>\n",
       "      <td>1</td>\n",
       "      <td>0</td>\n",
       "      <td>0</td>\n",
       "      <td>2</td>\n",
       "      <td>3.0</td>\n",
       "    </tr>\n",
       "  </tbody>\n",
       "</table>\n",
       "<p>1196 rows × 16 columns</p>\n",
       "</div>"
      ],
      "text/plain": [
       "      GENDER  Car_Owner  Propert_Owner  CHILDREN  Annual_income  Type_Income  \\\n",
       "1459       0          0              1         0       171000.0            3   \n",
       "792        0          1              1         0       112500.0            3   \n",
       "837        0          1              1         1       135000.0            0   \n",
       "395        1          1              1         1       112500.0            3   \n",
       "1466       1          0              1         1       202500.0            0   \n",
       "...      ...        ...            ...       ...            ...          ...   \n",
       "1485       0          1              1         0       225000.0            1   \n",
       "1496       1          0              1         0       225000.0            0   \n",
       "800        0          1              0         1       315000.0            0   \n",
       "1369       0          0              1         1       202500.0            2   \n",
       "708        1          1              1         0       112500.0            3   \n",
       "\n",
       "      EDUCATION  Marital_status  Housing_type  Birthday_count  Employed_days  \\\n",
       "1459          1               1             1        -18348.0          -3853   \n",
       "792           1               1             1        -10101.0           -505   \n",
       "837           1               1             1        -11278.0          -2481   \n",
       "395           4               1             1        -11279.0           -508   \n",
       "1466          4               1             1        -14952.0           -104   \n",
       "...         ...             ...           ...             ...            ...   \n",
       "1485          4               1             1        -22920.0         365243   \n",
       "1496          4               3             1         -9149.0          -1217   \n",
       "800           1               1             1        -11025.0          -2065   \n",
       "1369          4               0             1        -15975.0          -8760   \n",
       "708           4               1             1        -18293.0           -521   \n",
       "\n",
       "      Work_Phone  Phone  EMAIL_ID  Family_Members  Type_Occupation_no  \n",
       "1459           0      0         0               2                 3.0  \n",
       "792            1      1         0               2                 3.0  \n",
       "837            0      0         0               3                 0.0  \n",
       "395            0      0         0               3                 3.0  \n",
       "1466           0      1         0               3                 0.0  \n",
       "...          ...    ...       ...             ...                 ...  \n",
       "1485           0      0         0               2                 1.0  \n",
       "1496           0      0         1               1                 0.0  \n",
       "800            1      1         1               3                 0.0  \n",
       "1369           0      0         0               3                 2.0  \n",
       "708            1      0         0               2                 3.0  \n",
       "\n",
       "[1196 rows x 16 columns]"
      ]
     },
     "execution_count": 548,
     "metadata": {},
     "output_type": "execute_result"
    }
   ],
   "source": [
    "x_train"
   ]
  },
  {
   "cell_type": "markdown",
   "id": "910a2bb3",
   "metadata": {},
   "source": [
    "Let us import the necessary training models from scikitlearn.\n",
    "Since its a classification problem we will be using the following algorithms to train the model.\n",
    "logistic regression\n",
    "Decision Tree\n",
    "RandomForest\n",
    "Support Vector "
   ]
  },
  {
   "cell_type": "code",
   "execution_count": 550,
   "id": "bb9a998e",
   "metadata": {},
   "outputs": [],
   "source": [
    "# Models\n",
    "from sklearn.linear_model import LogisticRegression\n",
    "from sklearn.metrics import precision_score,recall_score, f1_score, accuracy_score\n",
    "from sklearn import tree\n",
    "from sklearn.tree import DecisionTreeClassifier\n",
    "from sklearn.ensemble import RandomForestClassifier\n",
    "from sklearn.svm import SVC"
   ]
  },
  {
   "cell_type": "code",
   "execution_count": 559,
   "id": "99f0da14",
   "metadata": {},
   "outputs": [
    {
     "name": "stdout",
     "output_type": "stream",
     "text": [
      "Logistic Regression Accuracy: 0.88\n",
      "Logistic Regression Precision: 0.7744\n"
     ]
    },
    {
     "name": "stderr",
     "output_type": "stream",
     "text": [
      "C:\\Users\\ADMIN\\anaconda3\\Lib\\site-packages\\sklearn\\metrics\\_classification.py:1469: UndefinedMetricWarning: Precision is ill-defined and being set to 0.0 in labels with no predicted samples. Use `zero_division` parameter to control this behavior.\n",
      "  _warn_prf(average, modifier, msg_start, len(result))\n"
     ]
    }
   ],
   "source": [
    "# Logistic Regression\n",
    "LR=LogisticRegression()\n",
    "LR.fit(x_train,y_train)\n",
    "y_pred=LR.predict(x_test)\n",
    "accuracy = accuracy_score(y_test,y_pred)\n",
    "print('Logistic Regression Accuracy:',accuracy)\n",
    "precision = precision_score(y_test, y_pred, average='weighted')\n",
    "print('Logistic Regression Precision:',precision)"
   ]
  },
  {
   "cell_type": "code",
   "execution_count": 560,
   "id": "e52de1d3",
   "metadata": {},
   "outputs": [
    {
     "name": "stdout",
     "output_type": "stream",
     "text": [
      " Decision Tree Accuracy: 0.89\n",
      " Decision Tree Precision: 0.8861287027579162\n"
     ]
    }
   ],
   "source": [
    "#Decision Tree\n",
    "tree = DecisionTreeClassifier() \n",
    "tree.fit(x_train, y_train) \n",
    "y_pred = tree.predict(x_test) \n",
    "print(\" Decision Tree Accuracy:\", accuracy_score(y_test, \n",
    "                                  y_pred))\n",
    "precision = precision_score(y_test, y_pred, average='weighted')\n",
    "print(' Decision Tree Precision:',precision)"
   ]
  },
  {
   "cell_type": "code",
   "execution_count": 557,
   "id": "002a94fa",
   "metadata": {},
   "outputs": [
    {
     "name": "stdout",
     "output_type": "stream",
     "text": [
      " Random orest Accuracy: 0.9233333333333333\n",
      " Random Forest Precision: 0.9205819995842861\n"
     ]
    }
   ],
   "source": [
    "#Random Forest\n",
    "clf = RandomForestClassifier(n_estimators = 100) \n",
    "clf.fit(x_train, y_train)\n",
    "y_pred = clf.predict(x_test)\n",
    "print(\" Random Forest Accuracy:\", accuracy_score(y_test, \n",
    "                                  y_pred))\n",
    "precision = precision_score(y_test, y_pred, average='weighted')\n",
    "print(' Random Forest Precision:',precision)"
   ]
  },
  {
   "cell_type": "code",
   "execution_count": 573,
   "id": "707f69ba",
   "metadata": {},
   "outputs": [
    {
     "name": "stdout",
     "output_type": "stream",
     "text": [
      " Support Vector Machine Accuracy: 0.88\n",
      " Support Vector Machine Precision: 0.7744\n"
     ]
    },
    {
     "name": "stderr",
     "output_type": "stream",
     "text": [
      "C:\\Users\\ADMIN\\anaconda3\\Lib\\site-packages\\sklearn\\metrics\\_classification.py:1469: UndefinedMetricWarning: Precision is ill-defined and being set to 0.0 in labels with no predicted samples. Use `zero_division` parameter to control this behavior.\n",
      "  _warn_prf(average, modifier, msg_start, len(result))\n"
     ]
    }
   ],
   "source": [
    "# Support Vector Machine\n",
    "sv=SVC()\n",
    "sv.fit(x_train,y_train)\n",
    "y_pred=sv.predict(x_test)\n",
    "print(\" Support Vector Machine Accuracy:\", accuracy_score(y_test, \n",
    "                                  y_pred)) \n",
    "precision = precision_score(y_test, y_pred, average='weighted')\n",
    "print(' Support Vector Machine Precision:',precision)"
   ]
  },
  {
   "cell_type": "markdown",
   "id": "7c9da2c4",
   "metadata": {},
   "source": [
    "From the result we can conclude that the Random Forest has the best accuracy and precision score."
   ]
  },
  {
   "cell_type": "code",
   "execution_count": null,
   "id": "d18fc1ff",
   "metadata": {},
   "outputs": [],
   "source": []
  }
 ],
 "metadata": {
  "kernelspec": {
   "display_name": "Python 3 (ipykernel)",
   "language": "python",
   "name": "python3"
  },
  "language_info": {
   "codemirror_mode": {
    "name": "ipython",
    "version": 3
   },
   "file_extension": ".py",
   "mimetype": "text/x-python",
   "name": "python",
   "nbconvert_exporter": "python",
   "pygments_lexer": "ipython3",
   "version": "3.11.5"
  }
 },
 "nbformat": 4,
 "nbformat_minor": 5
}
